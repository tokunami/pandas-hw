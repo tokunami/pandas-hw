{
 "cells": [
  {
   "cell_type": "markdown",
   "metadata": {},
   "source": [
    "# Heroes of Pymoli Data Analysis\n",
    "\n",
    "## three observable trends based on the data\n",
    "1. [User demographics] Early twenty player is the largest number(around 40%), late teen players are following (around 25%). Male players are more than 80%(N=612).\n",
    "![png](graphs/output_8_1.png)\n",
    "2. [the number of Item(s) users have] User count and total purchase count are strongly positive coefficient. It is assumed that most users have only 1 item. It is also supported by that more than 60% of users bought only 1 item, 25% of users boutht 2 items(N=858).\n",
    "![png](graphs/output_16_1.png)\n",
    "3. [Popular Item] No particular correlation between Item Price and the number of item sold."
   ]
  },
  {
   "cell_type": "code",
   "execution_count": 82,
   "metadata": {},
   "outputs": [
    {
     "data": {
      "text/html": [
       "<div>\n",
       "<style>\n",
       "    .dataframe thead tr:only-child th {\n",
       "        text-align: right;\n",
       "    }\n",
       "\n",
       "    .dataframe thead th {\n",
       "        text-align: left;\n",
       "    }\n",
       "\n",
       "    .dataframe tbody tr th {\n",
       "        vertical-align: top;\n",
       "    }\n",
       "</style>\n",
       "<table border=\"1\" class=\"dataframe\">\n",
       "  <thead>\n",
       "    <tr style=\"text-align: right;\">\n",
       "      <th></th>\n",
       "      <th>Age</th>\n",
       "      <th>Gender</th>\n",
       "      <th>Item ID</th>\n",
       "      <th>Item Name</th>\n",
       "      <th>Price</th>\n",
       "      <th>SN</th>\n",
       "    </tr>\n",
       "  </thead>\n",
       "  <tbody>\n",
       "    <tr>\n",
       "      <th>0</th>\n",
       "      <td>38</td>\n",
       "      <td>Male</td>\n",
       "      <td>165</td>\n",
       "      <td>Bone Crushing Silver Skewer</td>\n",
       "      <td>3.37</td>\n",
       "      <td>Aelalis34</td>\n",
       "    </tr>\n",
       "    <tr>\n",
       "      <th>1</th>\n",
       "      <td>21</td>\n",
       "      <td>Male</td>\n",
       "      <td>119</td>\n",
       "      <td>Stormbringer, Dark Blade of Ending Misery</td>\n",
       "      <td>2.32</td>\n",
       "      <td>Eolo46</td>\n",
       "    </tr>\n",
       "    <tr>\n",
       "      <th>2</th>\n",
       "      <td>34</td>\n",
       "      <td>Male</td>\n",
       "      <td>174</td>\n",
       "      <td>Primitive Blade</td>\n",
       "      <td>2.46</td>\n",
       "      <td>Assastnya25</td>\n",
       "    </tr>\n",
       "    <tr>\n",
       "      <th>3</th>\n",
       "      <td>21</td>\n",
       "      <td>Male</td>\n",
       "      <td>92</td>\n",
       "      <td>Final Critic</td>\n",
       "      <td>1.36</td>\n",
       "      <td>Pheusrical25</td>\n",
       "    </tr>\n",
       "    <tr>\n",
       "      <th>4</th>\n",
       "      <td>23</td>\n",
       "      <td>Male</td>\n",
       "      <td>63</td>\n",
       "      <td>Stormfury Mace</td>\n",
       "      <td>1.27</td>\n",
       "      <td>Aela59</td>\n",
       "    </tr>\n",
       "  </tbody>\n",
       "</table>\n",
       "</div>"
      ],
      "text/plain": [
       "   Age Gender  Item ID                                  Item Name  Price  \\\n",
       "0   38   Male      165                Bone Crushing Silver Skewer   3.37   \n",
       "1   21   Male      119  Stormbringer, Dark Blade of Ending Misery   2.32   \n",
       "2   34   Male      174                            Primitive Blade   2.46   \n",
       "3   21   Male       92                               Final Critic   1.36   \n",
       "4   23   Male       63                             Stormfury Mace   1.27   \n",
       "\n",
       "             SN  \n",
       "0     Aelalis34  \n",
       "1        Eolo46  \n",
       "2   Assastnya25  \n",
       "3  Pheusrical25  \n",
       "4        Aela59  "
      ]
     },
     "execution_count": 82,
     "metadata": {},
     "output_type": "execute_result"
    }
   ],
   "source": [
    "# Import Dependencies\n",
    "import pandas as pd\n",
    "import os\n",
    "import mimetypes\n",
    "from functools import reduce\n",
    "\n",
    "# Path to resource files\n",
    "path = \"resources\"\n",
    "\n",
    "# Get a file name list\n",
    "fileList = [f for f in os.listdir(path) if (mimetypes.guess_type(f)[0] == \"application/json\")]\n",
    "# print(fileList)\n",
    "\n",
    "def mergeDF(directory, fileArr):\n",
    "    dfArr = []    \n",
    "    if len(fileArr) > 1:\n",
    "        for file in fileArr:\n",
    "            dfArr.append(pd.read_json(os.path.join(directory, file)))\n",
    "        df = reduce(lambda  left,right: pd.merge(left,right,how='outer'), dfArr)\n",
    "    else:\n",
    "        df = pd.read_json(os.path.join(directory, fileArr[0]))\n",
    "    return df\n",
    "\n",
    "# Create references to the json files and import it into a marged Pandas DataFrame\n",
    "purchase_df = mergeDF(path, fileList)\n",
    "purchase_df.head()"
   ]
  },
  {
   "cell_type": "markdown",
   "metadata": {},
   "source": [
    "## Player Count"
   ]
  },
  {
   "cell_type": "code",
   "execution_count": 53,
   "metadata": {},
   "outputs": [
    {
     "data": {
      "text/html": [
       "<div>\n",
       "<style>\n",
       "    .dataframe thead tr:only-child th {\n",
       "        text-align: right;\n",
       "    }\n",
       "\n",
       "    .dataframe thead th {\n",
       "        text-align: left;\n",
       "    }\n",
       "\n",
       "    .dataframe tbody tr th {\n",
       "        vertical-align: top;\n",
       "    }\n",
       "</style>\n",
       "<table border=\"1\" class=\"dataframe\">\n",
       "  <thead>\n",
       "    <tr style=\"text-align: right;\">\n",
       "      <th></th>\n",
       "      <th>Total Number of Players</th>\n",
       "    </tr>\n",
       "  </thead>\n",
       "  <tbody>\n",
       "    <tr>\n",
       "      <th>0</th>\n",
       "      <td>612</td>\n",
       "    </tr>\n",
       "  </tbody>\n",
       "</table>\n",
       "</div>"
      ],
      "text/plain": [
       "   Total Number of Players\n",
       "0                      612"
      ]
     },
     "execution_count": 53,
     "metadata": {},
     "output_type": "execute_result"
    }
   ],
   "source": [
    "# Count the number of total players\n",
    "totalCount = purchase_df[\"SN\"].value_counts().count()\n",
    "# totalCount = len(purchase_df[~purchase_df[\"SN\"].duplicated()].index)\n",
    "pd.DataFrame({\"Total Number of Players\": [totalCount]})"
   ]
  },
  {
   "cell_type": "markdown",
   "metadata": {},
   "source": [
    "## Purchasing Analysis (Total)"
   ]
  },
  {
   "cell_type": "code",
   "execution_count": 54,
   "metadata": {},
   "outputs": [
    {
     "data": {
      "text/html": [
       "<div>\n",
       "<style>\n",
       "    .dataframe thead tr:only-child th {\n",
       "        text-align: right;\n",
       "    }\n",
       "\n",
       "    .dataframe thead th {\n",
       "        text-align: left;\n",
       "    }\n",
       "\n",
       "    .dataframe tbody tr th {\n",
       "        vertical-align: top;\n",
       "    }\n",
       "</style>\n",
       "<table border=\"1\" class=\"dataframe\">\n",
       "  <thead>\n",
       "    <tr style=\"text-align: right;\">\n",
       "      <th></th>\n",
       "      <th>Number of Unique Items</th>\n",
       "      <th>Average Purchase Price</th>\n",
       "      <th>Total Number of Purchases</th>\n",
       "      <th>Total Revenue</th>\n",
       "    </tr>\n",
       "  </thead>\n",
       "  <tbody>\n",
       "    <tr>\n",
       "      <th>0</th>\n",
       "      <td>184</td>\n",
       "      <td>$2.93</td>\n",
       "      <td>858</td>\n",
       "      <td>$2514.43</td>\n",
       "    </tr>\n",
       "  </tbody>\n",
       "</table>\n",
       "</div>"
      ],
      "text/plain": [
       "   Number of Unique Items Average Purchase Price  Total Number of Purchases  \\\n",
       "0                     184                  $2.93                        858   \n",
       "\n",
       "  Total Revenue  \n",
       "0      $2514.43  "
      ]
     },
     "execution_count": 54,
     "metadata": {},
     "output_type": "execute_result"
    }
   ],
   "source": [
    "\n",
    "\n",
    "# Create a new df with formatting\n",
    "purchasingAnalysis_df = pd.DataFrame({\n",
    "    \"Number of Unique Items\":[purchase_df[\"Item ID\"].value_counts().count()],\n",
    "    \"Average Purchase Price\":[\"$\" + str(round(purchase_df[\"Price\"].mean(),2))],\n",
    "    \"Total Number of Purchases\":[len(purchase_df.index)],\n",
    "    \"Total Revenue\":[\"$\" + str(round(purchase_df[\"Price\"].sum(),2))]\n",
    "})\n",
    "\n",
    "# Output\n",
    "purchasingAnalysis_df[[\n",
    "    \"Number of Unique Items\",\n",
    "    \"Average Purchase Price\",\n",
    "    \"Total Number of Purchases\",\n",
    "    \"Total Revenue\"\n",
    "]]"
   ]
  },
  {
   "cell_type": "markdown",
   "metadata": {},
   "source": [
    "## Gender Demographics"
   ]
  },
  {
   "cell_type": "code",
   "execution_count": 55,
   "metadata": {},
   "outputs": [
    {
     "data": {
      "text/html": [
       "<div>\n",
       "<style>\n",
       "    .dataframe thead tr:only-child th {\n",
       "        text-align: right;\n",
       "    }\n",
       "\n",
       "    .dataframe thead th {\n",
       "        text-align: left;\n",
       "    }\n",
       "\n",
       "    .dataframe tbody tr th {\n",
       "        vertical-align: top;\n",
       "    }\n",
       "</style>\n",
       "<table border=\"1\" class=\"dataframe\">\n",
       "  <thead>\n",
       "    <tr style=\"text-align: right;\">\n",
       "      <th></th>\n",
       "      <th>Percentage of Players</th>\n",
       "      <th>Total Count</th>\n",
       "    </tr>\n",
       "    <tr>\n",
       "      <th>Gender</th>\n",
       "      <th></th>\n",
       "      <th></th>\n",
       "    </tr>\n",
       "  </thead>\n",
       "  <tbody>\n",
       "    <tr>\n",
       "      <th>Male</th>\n",
       "      <td>80.88%</td>\n",
       "      <td>495</td>\n",
       "    </tr>\n",
       "    <tr>\n",
       "      <th>Female</th>\n",
       "      <td>17.65%</td>\n",
       "      <td>108</td>\n",
       "    </tr>\n",
       "    <tr>\n",
       "      <th>Other / Non-Disclosed</th>\n",
       "      <td>1.47%</td>\n",
       "      <td>9</td>\n",
       "    </tr>\n",
       "  </tbody>\n",
       "</table>\n",
       "</div>"
      ],
      "text/plain": [
       "                      Percentage of Players  Total Count\n",
       "Gender                                                  \n",
       "Male                                 80.88%          495\n",
       "Female                               17.65%          108\n",
       "Other / Non-Disclosed                 1.47%            9"
      ]
     },
     "execution_count": 55,
     "metadata": {},
     "output_type": "execute_result"
    }
   ],
   "source": [
    "# Create a new df removed duplicated \"SN\"\n",
    "uniquePlayers_df = purchase_df[~purchase_df[\"SN\"].duplicated()]\n",
    "# uniquePlayers_df = purchase_df.drop_duplicates(subset=\"SN\")\n",
    "# uniquePlayers_df\n",
    "\n",
    "# Group by gender\n",
    "uniquePlayers_gender = uniquePlayers_df.groupby(\"Gender\")\n",
    "\n",
    "# Create a new df\n",
    "uniquePlayers_gender_df = pd.DataFrame({\n",
    "    \"Percentage of Players\": uniquePlayers_gender[\"Age\"].count()/totalCount,\n",
    "    \"Total Count\":uniquePlayers_gender[\"Age\"].count()\n",
    "})\n",
    "\n",
    "# Format\n",
    "uniquePlayers_gender_df[\"Percentage of Players\"] = uniquePlayers_gender_df[\"Percentage of Players\"].map(\"{:.2%}\".format)\n",
    "\n",
    "# Sort and Output\n",
    "uniquePlayers_gender_df.sort_values(by=\"Total Count\",ascending=False)"
   ]
  },
  {
   "cell_type": "code",
   "execution_count": 56,
   "metadata": {},
   "outputs": [
    {
     "data": {
      "text/plain": [
       "(-1.1056525356513272,\n",
       " 1.1002691684587598,\n",
       " -1.1061276225600638,\n",
       " 1.1053838469607085)"
      ]
     },
     "execution_count": 56,
     "metadata": {},
     "output_type": "execute_result"
    },
    {
     "data": {
      "image/png": "[encoded data removed]",
      "text/plain": [
       "<matplotlib.figure.Figure at 0x10bba59b0>"
      ]
     },
     "metadata": {},
     "output_type": "display_data"
    }
   ],
   "source": [
    "%matplotlib inline\n",
    "uniquePlayers_gender_df.plot.pie(\"Total Count\").axis(\"equal\")"
   ]
  },
  {
   "cell_type": "markdown",
   "metadata": {},
   "source": [
    "## Purchasing Analysis (Gender)"
   ]
  },
  {
   "cell_type": "code",
   "execution_count": 57,
   "metadata": {},
   "outputs": [
    {
     "data": {
      "text/html": [
       "<style  type=\"text/css\" >\n",
       "</style>  \n",
       "<table id=\"T_c55f79ec_21b4_11e8_b512_acde48001122\" > \n",
       "<thead>    <tr> \n",
       "        <th class=\"blank level0\" ></th> \n",
       "        <th class=\"col_heading level0 col0\" >Purchase Count</th> \n",
       "        <th class=\"col_heading level0 col1\" >Average Purchase Price</th> \n",
       "        <th class=\"col_heading level0 col2\" >Total Purchase Value</th> \n",
       "        <th class=\"col_heading level0 col3\" >Normalized Totals</th> \n",
       "    </tr>    <tr> \n",
       "        <th class=\"index_name level0\" >Gender</th> \n",
       "        <th class=\"blank\" ></th> \n",
       "        <th class=\"blank\" ></th> \n",
       "        <th class=\"blank\" ></th> \n",
       "        <th class=\"blank\" ></th> \n",
       "    </tr></thead> \n",
       "<tbody>    <tr> \n",
       "        <th id=\"T_c55f79ec_21b4_11e8_b512_acde48001122level0_row0\" class=\"row_heading level0 row0\" >Female</th> \n",
       "        <td id=\"T_c55f79ec_21b4_11e8_b512_acde48001122row0_col0\" class=\"data row0 col0\" >149</td> \n",
       "        <td id=\"T_c55f79ec_21b4_11e8_b512_acde48001122row0_col1\" class=\"data row0 col1\" >$149.00</td> \n",
       "        <td id=\"T_c55f79ec_21b4_11e8_b512_acde48001122row0_col2\" class=\"data row0 col2\" >$424.29</td> \n",
       "        <td id=\"T_c55f79ec_21b4_11e8_b512_acde48001122row0_col3\" class=\"data row0 col3\" >$3.93</td> \n",
       "    </tr>    <tr> \n",
       "        <th id=\"T_c55f79ec_21b4_11e8_b512_acde48001122level0_row1\" class=\"row_heading level0 row1\" >Male</th> \n",
       "        <td id=\"T_c55f79ec_21b4_11e8_b512_acde48001122row1_col0\" class=\"data row1 col0\" >697</td> \n",
       "        <td id=\"T_c55f79ec_21b4_11e8_b512_acde48001122row1_col1\" class=\"data row1 col1\" >$697.00</td> \n",
       "        <td id=\"T_c55f79ec_21b4_11e8_b512_acde48001122row1_col2\" class=\"data row1 col2\" >$2052.28</td> \n",
       "        <td id=\"T_c55f79ec_21b4_11e8_b512_acde48001122row1_col3\" class=\"data row1 col3\" >$4.15</td> \n",
       "    </tr>    <tr> \n",
       "        <th id=\"T_c55f79ec_21b4_11e8_b512_acde48001122level0_row2\" class=\"row_heading level0 row2\" >Other / Non-Disclosed</th> \n",
       "        <td id=\"T_c55f79ec_21b4_11e8_b512_acde48001122row2_col0\" class=\"data row2 col0\" >12</td> \n",
       "        <td id=\"T_c55f79ec_21b4_11e8_b512_acde48001122row2_col1\" class=\"data row2 col1\" >$12.00</td> \n",
       "        <td id=\"T_c55f79ec_21b4_11e8_b512_acde48001122row2_col2\" class=\"data row2 col2\" >$37.86</td> \n",
       "        <td id=\"T_c55f79ec_21b4_11e8_b512_acde48001122row2_col3\" class=\"data row2 col3\" >$4.21</td> \n",
       "    </tr></tbody> \n",
       "</table> "
      ],
      "text/plain": [
       "<pandas.io.formats.style.Styler at 0x10bb91ba8>"
      ]
     },
     "execution_count": 57,
     "metadata": {},
     "output_type": "execute_result"
    }
   ],
   "source": [
    "# Group by gender\n",
    "purchase_gender = purchase_df.groupby(\"Gender\")\n",
    "# purchase_gender.count()\n",
    "\n",
    "# Create a new df\n",
    "purchasing_gender_df = pd.DataFrame({\n",
    "    \"Purchase Count\": purchase_gender.count()[\"Age\"],\n",
    "    \"Average Purchase Price\":purchase_gender.count()[\"Price\"],\n",
    "    \"Total Purchase Value\":purchase_gender.sum()[\"Price\"],\n",
    "    \"Normalized Totals\":purchase_gender.sum()[\"Price\"] / uniquePlayers_gender_df[\"Total Count\"]\n",
    "})\n",
    "\n",
    "#Format and Output\n",
    "purchasing_gender_df[[\n",
    "    \"Purchase Count\",\n",
    "    \"Average Purchase Price\",\n",
    "    \"Total Purchase Value\",\n",
    "    \"Normalized Totals\"\n",
    "]].style.format({\n",
    "    \"Average Purchase Price\":\"${:.2f}\",\n",
    "    \"Total Purchase Value\":\"${:.2f}\",\n",
    "    \"Normalized Totals\":\"${:.2f}\"\n",
    "})"
   ]
  },
  {
   "cell_type": "markdown",
   "metadata": {},
   "source": [
    "## Age Demographics"
   ]
  },
  {
   "cell_type": "code",
   "execution_count": 58,
   "metadata": {},
   "outputs": [
    {
     "name": "stderr",
     "output_type": "stream",
     "text": [
      "/Users/tokunaga/.pyenv/versions/anaconda3-5.0.0/envs/PythonData/lib/python3.6/site-packages/ipykernel/__main__.py:6: SettingWithCopyWarning: \n",
      "A value is trying to be set on a copy of a slice from a DataFrame.\n",
      "Try using .loc[row_indexer,col_indexer] = value instead\n",
      "\n",
      "See the caveats in the documentation: http://pandas.pydata.org/pandas-docs/stable/indexing.html#indexing-view-versus-copy\n"
     ]
    },
    {
     "data": {
      "text/html": [
       "<style  type=\"text/css\" >\n",
       "</style>  \n",
       "<table id=\"T_c56b2118_21b4_11e8_83e3_acde48001122\" > \n",
       "<thead>    <tr> \n",
       "        <th class=\"blank level0\" ></th> \n",
       "        <th class=\"col_heading level0 col0\" >Percentage of Players</th> \n",
       "        <th class=\"col_heading level0 col1\" >Total Count</th> \n",
       "    </tr>    <tr> \n",
       "        <th class=\"index_name level0\" >ageRange</th> \n",
       "        <th class=\"blank\" ></th> \n",
       "        <th class=\"blank\" ></th> \n",
       "    </tr></thead> \n",
       "<tbody>    <tr> \n",
       "        <th id=\"T_c56b2118_21b4_11e8_83e3_acde48001122level0_row0\" class=\"row_heading level0 row0\" >< 10</th> \n",
       "        <td id=\"T_c56b2118_21b4_11e8_83e3_acde48001122row0_col0\" class=\"data row0 col0\" >3.92%</td> \n",
       "        <td id=\"T_c56b2118_21b4_11e8_83e3_acde48001122row0_col1\" class=\"data row0 col1\" >24</td> \n",
       "    </tr>    <tr> \n",
       "        <th id=\"T_c56b2118_21b4_11e8_83e3_acde48001122level0_row1\" class=\"row_heading level0 row1\" >10 - 14</th> \n",
       "        <td id=\"T_c56b2118_21b4_11e8_83e3_acde48001122row1_col0\" class=\"data row1 col0\" >9.31%</td> \n",
       "        <td id=\"T_c56b2118_21b4_11e8_83e3_acde48001122row1_col1\" class=\"data row1 col1\" >57</td> \n",
       "    </tr>    <tr> \n",
       "        <th id=\"T_c56b2118_21b4_11e8_83e3_acde48001122level0_row2\" class=\"row_heading level0 row2\" >15 - 19</th> \n",
       "        <td id=\"T_c56b2118_21b4_11e8_83e3_acde48001122row2_col0\" class=\"data row2 col0\" >24.51%</td> \n",
       "        <td id=\"T_c56b2118_21b4_11e8_83e3_acde48001122row2_col1\" class=\"data row2 col1\" >150</td> \n",
       "    </tr>    <tr> \n",
       "        <th id=\"T_c56b2118_21b4_11e8_83e3_acde48001122level0_row3\" class=\"row_heading level0 row3\" >20 - 24</th> \n",
       "        <td id=\"T_c56b2118_21b4_11e8_83e3_acde48001122row3_col0\" class=\"data row3 col0\" >40.20%</td> \n",
       "        <td id=\"T_c56b2118_21b4_11e8_83e3_acde48001122row3_col1\" class=\"data row3 col1\" >246</td> \n",
       "    </tr>    <tr> \n",
       "        <th id=\"T_c56b2118_21b4_11e8_83e3_acde48001122level0_row4\" class=\"row_heading level0 row4\" >25 - 29</th> \n",
       "        <td id=\"T_c56b2118_21b4_11e8_83e3_acde48001122row4_col0\" class=\"data row4 col0\" >8.99%</td> \n",
       "        <td id=\"T_c56b2118_21b4_11e8_83e3_acde48001122row4_col1\" class=\"data row4 col1\" >55</td> \n",
       "    </tr>    <tr> \n",
       "        <th id=\"T_c56b2118_21b4_11e8_83e3_acde48001122level0_row5\" class=\"row_heading level0 row5\" >30 - 34</th> \n",
       "        <td id=\"T_c56b2118_21b4_11e8_83e3_acde48001122row5_col0\" class=\"data row5 col0\" >7.84%</td> \n",
       "        <td id=\"T_c56b2118_21b4_11e8_83e3_acde48001122row5_col1\" class=\"data row5 col1\" >48</td> \n",
       "    </tr>    <tr> \n",
       "        <th id=\"T_c56b2118_21b4_11e8_83e3_acde48001122level0_row6\" class=\"row_heading level0 row6\" >35 - 39</th> \n",
       "        <td id=\"T_c56b2118_21b4_11e8_83e3_acde48001122row6_col0\" class=\"data row6 col0\" >4.74%</td> \n",
       "        <td id=\"T_c56b2118_21b4_11e8_83e3_acde48001122row6_col1\" class=\"data row6 col1\" >29</td> \n",
       "    </tr>    <tr> \n",
       "        <th id=\"T_c56b2118_21b4_11e8_83e3_acde48001122level0_row7\" class=\"row_heading level0 row7\" >40 - 45</th> \n",
       "        <td id=\"T_c56b2118_21b4_11e8_83e3_acde48001122row7_col0\" class=\"data row7 col0\" >0.49%</td> \n",
       "        <td id=\"T_c56b2118_21b4_11e8_83e3_acde48001122row7_col1\" class=\"data row7 col1\" >3</td> \n",
       "    </tr></tbody> \n",
       "</table> "
      ],
      "text/plain": [
       "<pandas.io.formats.style.Styler at 0x10b8b68d0>"
      ]
     },
     "execution_count": 58,
     "metadata": {},
     "output_type": "execute_result"
    }
   ],
   "source": [
    "# Set bins and labels\n",
    "# print(purchase_df[\"Age\"].min())\n",
    "# print(purchase_df[\"Age\"].max())\n",
    "bins = [0,10,15,20,25,30,35,40,45]\n",
    "group_labels = [\"< 10\",\"10 - 14\",\"15 - 19\",\"20 - 24\",\"25 - 29\",\"30 - 34\",\"35 - 39\",\"40 - 45\"]\n",
    "uniquePlayers_df[\"ageRange\"] = pd.cut(uniquePlayers_df[\"Age\"],bins,labels=group_labels)\n",
    "# uniquePlayers_df.head()\n",
    "\n",
    "# Group by ageRange\n",
    "uniquePlayers_ageRange = uniquePlayers_df.groupby(\"ageRange\")\n",
    "\n",
    "# Format and Output\n",
    "uniquePlayers_ageRange_df = pd.DataFrame({\n",
    "    \"Percentage of Players\":uniquePlayers_ageRange[\"Age\"].count()/totalCount,\n",
    "    \"Total Count\": uniquePlayers_ageRange[\"Age\"].count()\n",
    "})\n",
    "uniquePlayers_ageRange_df.style.format({\n",
    "    \"Percentage of Players\": \"{:.2%}\"\n",
    "})"
   ]
  },
  {
   "cell_type": "code",
   "execution_count": 59,
   "metadata": {},
   "outputs": [],
   "source": [
    "# uniquePlayers_ageRange_df[\"Percentage of Players\"].pie()\n",
    "# TODO fix bug"
   ]
  },
  {
   "cell_type": "markdown",
   "metadata": {},
   "source": [
    "## Purchasing Analysis (Age)"
   ]
  },
  {
   "cell_type": "code",
   "execution_count": 88,
   "metadata": {},
   "outputs": [
    {
     "data": {
      "text/html": [
       "<style  type=\"text/css\" >\n",
       "</style>  \n",
       "<table id=\"T_10aaa762_21b7_11e8_9537_acde48001122\" > \n",
       "<thead>    <tr> \n",
       "        <th class=\"blank level0\" ></th> \n",
       "        <th class=\"col_heading level0 col0\" >User Count</th> \n",
       "        <th class=\"col_heading level0 col1\" >Purchase Count</th> \n",
       "        <th class=\"col_heading level0 col2\" >Average Purchase Price</th> \n",
       "        <th class=\"col_heading level0 col3\" >Total Purchase Value</th> \n",
       "        <th class=\"col_heading level0 col4\" >Normalized Totals</th> \n",
       "    </tr>    <tr> \n",
       "        <th class=\"index_name level0\" >ageRange</th> \n",
       "        <th class=\"blank\" ></th> \n",
       "        <th class=\"blank\" ></th> \n",
       "        <th class=\"blank\" ></th> \n",
       "        <th class=\"blank\" ></th> \n",
       "        <th class=\"blank\" ></th> \n",
       "    </tr></thead> \n",
       "<tbody>    <tr> \n",
       "        <th id=\"T_10aaa762_21b7_11e8_9537_acde48001122level0_row0\" class=\"row_heading level0 row0\" >< 10</th> \n",
       "        <td id=\"T_10aaa762_21b7_11e8_9537_acde48001122row0_col0\" class=\"data row0 col0\" >24</td> \n",
       "        <td id=\"T_10aaa762_21b7_11e8_9537_acde48001122row0_col1\" class=\"data row0 col1\" >37</td> \n",
       "        <td id=\"T_10aaa762_21b7_11e8_9537_acde48001122row0_col2\" class=\"data row0 col2\" >$2.98</td> \n",
       "        <td id=\"T_10aaa762_21b7_11e8_9537_acde48001122row0_col3\" class=\"data row0 col3\" >$110.44</td> \n",
       "        <td id=\"T_10aaa762_21b7_11e8_9537_acde48001122row0_col4\" class=\"data row0 col4\" >$4.60</td> \n",
       "    </tr>    <tr> \n",
       "        <th id=\"T_10aaa762_21b7_11e8_9537_acde48001122level0_row1\" class=\"row_heading level0 row1\" >10 - 14</th> \n",
       "        <td id=\"T_10aaa762_21b7_11e8_9537_acde48001122row1_col0\" class=\"data row1 col0\" >57</td> \n",
       "        <td id=\"T_10aaa762_21b7_11e8_9537_acde48001122row1_col1\" class=\"data row1 col1\" >82</td> \n",
       "        <td id=\"T_10aaa762_21b7_11e8_9537_acde48001122row1_col2\" class=\"data row1 col2\" >$2.88</td> \n",
       "        <td id=\"T_10aaa762_21b7_11e8_9537_acde48001122row1_col3\" class=\"data row1 col3\" >$236.36</td> \n",
       "        <td id=\"T_10aaa762_21b7_11e8_9537_acde48001122row1_col4\" class=\"data row1 col4\" >$4.15</td> \n",
       "    </tr>    <tr> \n",
       "        <th id=\"T_10aaa762_21b7_11e8_9537_acde48001122level0_row2\" class=\"row_heading level0 row2\" >15 - 19</th> \n",
       "        <td id=\"T_10aaa762_21b7_11e8_9537_acde48001122row2_col0\" class=\"data row2 col0\" >150</td> \n",
       "        <td id=\"T_10aaa762_21b7_11e8_9537_acde48001122row2_col1\" class=\"data row2 col1\" >204</td> \n",
       "        <td id=\"T_10aaa762_21b7_11e8_9537_acde48001122row2_col2\" class=\"data row2 col2\" >$2.86</td> \n",
       "        <td id=\"T_10aaa762_21b7_11e8_9537_acde48001122row2_col3\" class=\"data row2 col3\" >$583.43</td> \n",
       "        <td id=\"T_10aaa762_21b7_11e8_9537_acde48001122row2_col4\" class=\"data row2 col4\" >$3.89</td> \n",
       "    </tr>    <tr> \n",
       "        <th id=\"T_10aaa762_21b7_11e8_9537_acde48001122level0_row3\" class=\"row_heading level0 row3\" >20 - 24</th> \n",
       "        <td id=\"T_10aaa762_21b7_11e8_9537_acde48001122row3_col0\" class=\"data row3 col0\" >246</td> \n",
       "        <td id=\"T_10aaa762_21b7_11e8_9537_acde48001122row3_col1\" class=\"data row3 col1\" >338</td> \n",
       "        <td id=\"T_10aaa762_21b7_11e8_9537_acde48001122row3_col2\" class=\"data row3 col2\" >$2.97</td> \n",
       "        <td id=\"T_10aaa762_21b7_11e8_9537_acde48001122row3_col3\" class=\"data row3 col3\" >$1003.03</td> \n",
       "        <td id=\"T_10aaa762_21b7_11e8_9537_acde48001122row3_col4\" class=\"data row3 col4\" >$4.08</td> \n",
       "    </tr>    <tr> \n",
       "        <th id=\"T_10aaa762_21b7_11e8_9537_acde48001122level0_row4\" class=\"row_heading level0 row4\" >25 - 29</th> \n",
       "        <td id=\"T_10aaa762_21b7_11e8_9537_acde48001122row4_col0\" class=\"data row4 col0\" >55</td> \n",
       "        <td id=\"T_10aaa762_21b7_11e8_9537_acde48001122row4_col1\" class=\"data row4 col1\" >80</td> \n",
       "        <td id=\"T_10aaa762_21b7_11e8_9537_acde48001122row4_col2\" class=\"data row4 col2\" >$2.88</td> \n",
       "        <td id=\"T_10aaa762_21b7_11e8_9537_acde48001122row4_col3\" class=\"data row4 col3\" >$230.59</td> \n",
       "        <td id=\"T_10aaa762_21b7_11e8_9537_acde48001122row4_col4\" class=\"data row4 col4\" >$4.19</td> \n",
       "    </tr>    <tr> \n",
       "        <th id=\"T_10aaa762_21b7_11e8_9537_acde48001122level0_row5\" class=\"row_heading level0 row5\" >30 - 34</th> \n",
       "        <td id=\"T_10aaa762_21b7_11e8_9537_acde48001122row5_col0\" class=\"data row5 col0\" >48</td> \n",
       "        <td id=\"T_10aaa762_21b7_11e8_9537_acde48001122row5_col1\" class=\"data row5 col1\" >65</td> \n",
       "        <td id=\"T_10aaa762_21b7_11e8_9537_acde48001122row5_col2\" class=\"data row5 col2\" >$3.00</td> \n",
       "        <td id=\"T_10aaa762_21b7_11e8_9537_acde48001122row5_col3\" class=\"data row5 col3\" >$194.73</td> \n",
       "        <td id=\"T_10aaa762_21b7_11e8_9537_acde48001122row5_col4\" class=\"data row5 col4\" >$4.06</td> \n",
       "    </tr>    <tr> \n",
       "        <th id=\"T_10aaa762_21b7_11e8_9537_acde48001122level0_row6\" class=\"row_heading level0 row6\" >35 - 39</th> \n",
       "        <td id=\"T_10aaa762_21b7_11e8_9537_acde48001122row6_col0\" class=\"data row6 col0\" >29</td> \n",
       "        <td id=\"T_10aaa762_21b7_11e8_9537_acde48001122row6_col1\" class=\"data row6 col1\" >49</td> \n",
       "        <td id=\"T_10aaa762_21b7_11e8_9537_acde48001122row6_col2\" class=\"data row6 col2\" >$3.00</td> \n",
       "        <td id=\"T_10aaa762_21b7_11e8_9537_acde48001122row6_col3\" class=\"data row6 col3\" >$147.21</td> \n",
       "        <td id=\"T_10aaa762_21b7_11e8_9537_acde48001122row6_col4\" class=\"data row6 col4\" >$5.08</td> \n",
       "    </tr>    <tr> \n",
       "        <th id=\"T_10aaa762_21b7_11e8_9537_acde48001122level0_row7\" class=\"row_heading level0 row7\" >40 - 45</th> \n",
       "        <td id=\"T_10aaa762_21b7_11e8_9537_acde48001122row7_col0\" class=\"data row7 col0\" >3</td> \n",
       "        <td id=\"T_10aaa762_21b7_11e8_9537_acde48001122row7_col1\" class=\"data row7 col1\" >3</td> \n",
       "        <td id=\"T_10aaa762_21b7_11e8_9537_acde48001122row7_col2\" class=\"data row7 col2\" >$2.88</td> \n",
       "        <td id=\"T_10aaa762_21b7_11e8_9537_acde48001122row7_col3\" class=\"data row7 col3\" >$8.64</td> \n",
       "        <td id=\"T_10aaa762_21b7_11e8_9537_acde48001122row7_col4\" class=\"data row7 col4\" >$2.88</td> \n",
       "    </tr></tbody> \n",
       "</table> "
      ],
      "text/plain": [
       "<pandas.io.formats.style.Styler at 0x1155f1f60>"
      ]
     },
     "execution_count": 88,
     "metadata": {},
     "output_type": "execute_result"
    }
   ],
   "source": [
    "# Group by SN\n",
    "# dataBySN = purchase_df.groupby(\"SN\").mean()\n",
    "dataBySN = purchase_df\n",
    "# dataBySN\n",
    "\n",
    "# Set bins and labels\n",
    "bins = [0,10,15,20,25,30,35,40,45]\n",
    "group_labels = [\"< 10\",\"10 - 14\",\"15 - 19\",\"20 - 24\",\"25 - 29\",\"30 - 34\",\"35 - 39\",\"40 - 45\"]\n",
    "\n",
    "# Add ageRange row using cut\n",
    "dataBySN[\"ageRange\"] = pd.cut(dataBySN[\"Age\"],bins,labels=group_labels)\n",
    "# dataBySN\n",
    "\n",
    "# Add other rows\n",
    "# dataBySN[\"totalPrice\"] = purchase_df.groupby(\"SN\").sum()[\"Price\"]\n",
    "# dataBySN[\"purchaseCount\"] = purchase_df.groupby(\"SN\").count()[\"Age\"]\n",
    "\n",
    "# Group by ageRange\n",
    "dataBySN_ageRange = dataBySN.groupby(\"ageRange\")\n",
    "# dataBySN_ageRange.mean()\n",
    "\n",
    "# Create a new df\n",
    "dataBySN_ageRange_df = pd.DataFrame({\n",
    "    \"User Count\": uniquePlayers_ageRange_df[\"Total Count\"],\n",
    "    \"Purchase Count\": dataBySN_ageRange.count()[\"Age\"],\n",
    "    \"Average Purchase Price\": dataBySN_ageRange.mean()[\"Price\"],\n",
    "    \"Total Purchase Value\": dataBySN_ageRange.sum()[\"Price\"],\n",
    "    \"Normalized Totals\": dataBySN_ageRange.sum()[\"Price\"] / uniquePlayers_ageRange_df[\"Total Count\"]\n",
    "})\n",
    "dataBySN_ageRange_df\n",
    "\n",
    "# Format and Output\n",
    "dataBySN_ageRange_df[[\n",
    "    \"User Count\",\n",
    "    \"Purchase Count\",\n",
    "    \"Average Purchase Price\",\n",
    "    \"Total Purchase Value\",\n",
    "    \"Normalized Totals\"\n",
    "]].style.format({\n",
    "    \"Average Purchase Price\":\"${:.2f}\",\n",
    "    \"Total Purchase Value\":\"${:.2f}\",\n",
    "    \"Normalized Totals\":\"${:.2f}\"\n",
    "})"
   ]
  },
  {
   "cell_type": "code",
   "execution_count": 89,
   "metadata": {},
   "outputs": [
    {
     "data": {
      "text/plain": [
       "<matplotlib.axes._subplots.AxesSubplot at 0x1156a5400>"
      ]
     },
     "execution_count": 89,
     "metadata": {},
     "output_type": "execute_result"
    },
    {
     "data": {
      "image/png": "[encoded data removed]",
      "text/plain": [
       "<matplotlib.figure.Figure at 0x115690b70>"
      ]
     },
     "metadata": {},
     "output_type": "display_data"
    }
   ],
   "source": [
    "dataBySN_ageRange_df.plot.scatter(x='User Count', y='Purchase Count')"
   ]
  },
  {
   "cell_type": "code",
   "execution_count": 90,
   "metadata": {},
   "outputs": [
    {
     "data": {
      "text/plain": [
       "<matplotlib.axes._subplots.AxesSubplot at 0x1156b79e8>"
      ]
     },
     "execution_count": 90,
     "metadata": {},
     "output_type": "execute_result"
    },
    {
     "data": {
      "image/png": "[encoded data removed]",
      "text/plain": [
       "<matplotlib.figure.Figure at 0x1156bd4e0>"
      ]
     },
     "metadata": {},
     "output_type": "display_data"
    }
   ],
   "source": [
    "dataBySN_ageRange_df.plot.scatter(x='Average Purchase Price', y='Normalized Totals')"
   ]
  },
  {
   "cell_type": "markdown",
   "metadata": {},
   "source": [
    "## Top Spenders"
   ]
  },
  {
   "cell_type": "code",
   "execution_count": 91,
   "metadata": {},
   "outputs": [
    {
     "data": {
      "text/html": [
       "<style  type=\"text/css\" >\n",
       "</style>  \n",
       "<table id=\"T_2feb1406_21b7_11e8_a5a2_acde48001122\" > \n",
       "<thead>    <tr> \n",
       "        <th class=\"blank level0\" ></th> \n",
       "        <th class=\"col_heading level0 col0\" >Purchase Count</th> \n",
       "        <th class=\"col_heading level0 col1\" >Average Purchase Price</th> \n",
       "        <th class=\"col_heading level0 col2\" >Total Purchase Value</th> \n",
       "    </tr>    <tr> \n",
       "        <th class=\"index_name level0\" >SN</th> \n",
       "        <th class=\"blank\" ></th> \n",
       "        <th class=\"blank\" ></th> \n",
       "        <th class=\"blank\" ></th> \n",
       "    </tr></thead> \n",
       "<tbody>    <tr> \n",
       "        <th id=\"T_2feb1406_21b7_11e8_a5a2_acde48001122level0_row0\" class=\"row_heading level0 row0\" >Undirrala66</th> \n",
       "        <td id=\"T_2feb1406_21b7_11e8_a5a2_acde48001122row0_col0\" class=\"data row0 col0\" >5</td> \n",
       "        <td id=\"T_2feb1406_21b7_11e8_a5a2_acde48001122row0_col1\" class=\"data row0 col1\" >$3.41</td> \n",
       "        <td id=\"T_2feb1406_21b7_11e8_a5a2_acde48001122row0_col2\" class=\"data row0 col2\" >$17.06</td> \n",
       "    </tr>    <tr> \n",
       "        <th id=\"T_2feb1406_21b7_11e8_a5a2_acde48001122level0_row1\" class=\"row_heading level0 row1\" >Aerithllora36</th> \n",
       "        <td id=\"T_2feb1406_21b7_11e8_a5a2_acde48001122row1_col0\" class=\"data row1 col0\" >4</td> \n",
       "        <td id=\"T_2feb1406_21b7_11e8_a5a2_acde48001122row1_col1\" class=\"data row1 col1\" >$3.77</td> \n",
       "        <td id=\"T_2feb1406_21b7_11e8_a5a2_acde48001122row1_col2\" class=\"data row1 col2\" >$15.10</td> \n",
       "    </tr>    <tr> \n",
       "        <th id=\"T_2feb1406_21b7_11e8_a5a2_acde48001122level0_row2\" class=\"row_heading level0 row2\" >Saedue76</th> \n",
       "        <td id=\"T_2feb1406_21b7_11e8_a5a2_acde48001122row2_col0\" class=\"data row2 col0\" >4</td> \n",
       "        <td id=\"T_2feb1406_21b7_11e8_a5a2_acde48001122row2_col1\" class=\"data row2 col1\" >$3.39</td> \n",
       "        <td id=\"T_2feb1406_21b7_11e8_a5a2_acde48001122row2_col2\" class=\"data row2 col2\" >$13.56</td> \n",
       "    </tr>    <tr> \n",
       "        <th id=\"T_2feb1406_21b7_11e8_a5a2_acde48001122level0_row3\" class=\"row_heading level0 row3\" >Sondim43</th> \n",
       "        <td id=\"T_2feb1406_21b7_11e8_a5a2_acde48001122row3_col0\" class=\"data row3 col0\" >4</td> \n",
       "        <td id=\"T_2feb1406_21b7_11e8_a5a2_acde48001122row3_col1\" class=\"data row3 col1\" >$3.25</td> \n",
       "        <td id=\"T_2feb1406_21b7_11e8_a5a2_acde48001122row3_col2\" class=\"data row3 col2\" >$13.02</td> \n",
       "    </tr>    <tr> \n",
       "        <th id=\"T_2feb1406_21b7_11e8_a5a2_acde48001122level0_row4\" class=\"row_heading level0 row4\" >Mindimnya67</th> \n",
       "        <td id=\"T_2feb1406_21b7_11e8_a5a2_acde48001122row4_col0\" class=\"data row4 col0\" >4</td> \n",
       "        <td id=\"T_2feb1406_21b7_11e8_a5a2_acde48001122row4_col1\" class=\"data row4 col1\" >$3.18</td> \n",
       "        <td id=\"T_2feb1406_21b7_11e8_a5a2_acde48001122row4_col2\" class=\"data row4 col2\" >$12.74</td> \n",
       "    </tr></tbody> \n",
       "</table> "
      ],
      "text/plain": [
       "<pandas.io.formats.style.Styler at 0x1155eadd8>"
      ]
     },
     "execution_count": 91,
     "metadata": {},
     "output_type": "execute_result"
    }
   ],
   "source": [
    "# Group by SN\n",
    "purchase_bySN = purchase_df.groupby(\"SN\")\n",
    "\n",
    "# Create a new df\n",
    "topSpenders_df = pd.DataFrame({\n",
    "    \"Purchase Count\" : purchase_bySN[\"Item ID\"].count(),\n",
    "    \"Average Purchase Price\": purchase_bySN[\"Price\"].mean(),\n",
    "    \"Total Purchase Value\": purchase_bySN[\"Price\"].sum()\n",
    "})\n",
    "\n",
    "# Sort, Format, and Output\n",
    "topSpenders_df[[\n",
    "    \"Purchase Count\",\n",
    "    \"Average Purchase Price\",\n",
    "    \"Total Purchase Value\"\n",
    "]].sort_values(\n",
    "    by=[\"Purchase Count\", \"Average Purchase Price\"],\n",
    "    ascending=False\n",
    ").head().style.format({\n",
    "    \"Average Purchase Price\":\"${:.2f}\",\n",
    "    \"Total Purchase Value\":\"${:.2f}\"\n",
    "})\n"
   ]
  },
  {
   "cell_type": "code",
   "execution_count": 92,
   "metadata": {},
   "outputs": [
    {
     "data": {
      "text/plain": [
       "<matplotlib.axes._subplots.AxesSubplot at 0x1155e2d68>"
      ]
     },
     "execution_count": 92,
     "metadata": {},
     "output_type": "execute_result"
    },
    {
     "data": {
      "image/png": "[encoded data removed]",
      "text/plain": [
       "<matplotlib.figure.Figure at 0x1155e53c8>"
      ]
     },
     "metadata": {},
     "output_type": "display_data"
    }
   ],
   "source": [
    "%matplotlib inline\n",
    "topSpenders_df.plot.hist(x='Purchase Count', y='Total Purchase Value')"
   ]
  },
  {
   "cell_type": "code",
   "execution_count": 93,
   "metadata": {},
   "outputs": [
    {
     "data": {
      "text/plain": [
       "<matplotlib.axes._subplots.AxesSubplot at 0x115510da0>"
      ]
     },
     "execution_count": 93,
     "metadata": {},
     "output_type": "execute_result"
    },
    {
     "data": {
      "image/png": "[encoded data removed]",
      "text/plain": [
       "<matplotlib.figure.Figure at 0x114f5fbe0>"
      ]
     },
     "metadata": {},
     "output_type": "display_data"
    }
   ],
   "source": [
    "%matplotlib inline\n",
    "topSpenders_df.plot.hist(x='Total Purchase Value', y='Purchase Count')"
   ]
  },
  {
   "cell_type": "markdown",
   "metadata": {},
   "source": [
    "## Most Popular Items"
   ]
  },
  {
   "cell_type": "code",
   "execution_count": 94,
   "metadata": {},
   "outputs": [
    {
     "data": {
      "text/html": [
       "<style  type=\"text/css\" >\n",
       "</style>  \n",
       "<table id=\"T_3244e18a_21b7_11e8_9ffe_acde48001122\" > \n",
       "<thead>    <tr> \n",
       "        <th class=\"blank\" ></th> \n",
       "        <th class=\"blank level0\" ></th> \n",
       "        <th class=\"col_heading level0 col0\" >Purchase Count</th> \n",
       "        <th class=\"col_heading level0 col1\" >Item Price</th> \n",
       "        <th class=\"col_heading level0 col2\" >Total Purchase Value</th> \n",
       "    </tr>    <tr> \n",
       "        <th class=\"index_name level0\" >Item ID</th> \n",
       "        <th class=\"index_name level1\" >Item Name</th> \n",
       "        <th class=\"blank\" ></th> \n",
       "        <th class=\"blank\" ></th> \n",
       "        <th class=\"blank\" ></th> \n",
       "    </tr></thead> \n",
       "<tbody>    <tr> \n",
       "        <th id=\"T_3244e18a_21b7_11e8_9ffe_acde48001122level0_row0\" class=\"row_heading level0 row0\" >84</th> \n",
       "        <th id=\"T_3244e18a_21b7_11e8_9ffe_acde48001122level1_row0\" class=\"row_heading level1 row0\" >Arcane Gem</th> \n",
       "        <td id=\"T_3244e18a_21b7_11e8_9ffe_acde48001122row0_col0\" class=\"data row0 col0\" >12</td> \n",
       "        <td id=\"T_3244e18a_21b7_11e8_9ffe_acde48001122row0_col1\" class=\"data row0 col1\" >$2.45</td> \n",
       "        <td id=\"T_3244e18a_21b7_11e8_9ffe_acde48001122row0_col2\" class=\"data row0 col2\" >$29.34</td> \n",
       "    </tr>    <tr> \n",
       "        <th id=\"T_3244e18a_21b7_11e8_9ffe_acde48001122level0_row1\" class=\"row_heading level0 row1\" >39</th> \n",
       "        <th id=\"T_3244e18a_21b7_11e8_9ffe_acde48001122level1_row1\" class=\"row_heading level1 row1\" >Betrayal, Whisper of Grieving Widows</th> \n",
       "        <td id=\"T_3244e18a_21b7_11e8_9ffe_acde48001122row1_col0\" class=\"data row1 col0\" >11</td> \n",
       "        <td id=\"T_3244e18a_21b7_11e8_9ffe_acde48001122row1_col1\" class=\"data row1 col1\" >$2.35</td> \n",
       "        <td id=\"T_3244e18a_21b7_11e8_9ffe_acde48001122row1_col2\" class=\"data row1 col2\" >$25.85</td> \n",
       "    </tr>    <tr> \n",
       "        <th id=\"T_3244e18a_21b7_11e8_9ffe_acde48001122level0_row2\" class=\"row_heading level0 row2\" >31</th> \n",
       "        <th id=\"T_3244e18a_21b7_11e8_9ffe_acde48001122level1_row2\" class=\"row_heading level1 row2\" >Trickster</th> \n",
       "        <td id=\"T_3244e18a_21b7_11e8_9ffe_acde48001122row2_col0\" class=\"data row2 col0\" >10</td> \n",
       "        <td id=\"T_3244e18a_21b7_11e8_9ffe_acde48001122row2_col1\" class=\"data row2 col1\" >$2.32</td> \n",
       "        <td id=\"T_3244e18a_21b7_11e8_9ffe_acde48001122row2_col2\" class=\"data row2 col2\" >$23.22</td> \n",
       "    </tr>    <tr> \n",
       "        <th id=\"T_3244e18a_21b7_11e8_9ffe_acde48001122level0_row3\" class=\"row_heading level0 row3\" >34</th> \n",
       "        <th id=\"T_3244e18a_21b7_11e8_9ffe_acde48001122level1_row3\" class=\"row_heading level1 row3\" >Retribution Axe</th> \n",
       "        <td id=\"T_3244e18a_21b7_11e8_9ffe_acde48001122row3_col0\" class=\"data row3 col0\" >9</td> \n",
       "        <td id=\"T_3244e18a_21b7_11e8_9ffe_acde48001122row3_col1\" class=\"data row3 col1\" >$4.14</td> \n",
       "        <td id=\"T_3244e18a_21b7_11e8_9ffe_acde48001122row3_col2\" class=\"data row3 col2\" >$37.26</td> \n",
       "    </tr>    <tr> \n",
       "        <th id=\"T_3244e18a_21b7_11e8_9ffe_acde48001122level0_row4\" class=\"row_heading level0 row4\" >107</th> \n",
       "        <th id=\"T_3244e18a_21b7_11e8_9ffe_acde48001122level1_row4\" class=\"row_heading level1 row4\" >Splitter, Foe Of Subtlety</th> \n",
       "        <td id=\"T_3244e18a_21b7_11e8_9ffe_acde48001122row4_col0\" class=\"data row4 col0\" >9</td> \n",
       "        <td id=\"T_3244e18a_21b7_11e8_9ffe_acde48001122row4_col1\" class=\"data row4 col1\" >$3.67</td> \n",
       "        <td id=\"T_3244e18a_21b7_11e8_9ffe_acde48001122row4_col2\" class=\"data row4 col2\" >$33.03</td> \n",
       "    </tr></tbody> \n",
       "</table> "
      ],
      "text/plain": [
       "<pandas.io.formats.style.Styler at 0x1157104e0>"
      ]
     },
     "execution_count": 94,
     "metadata": {},
     "output_type": "execute_result"
    }
   ],
   "source": [
    "# Group by Item ID and Item Name\n",
    "purchase_byItem = purchase_df.groupby([\"Item ID\",\"Item Name\"])\n",
    "\n",
    "# Create a new df\n",
    "topItem_df = pd.DataFrame({\n",
    "    \"Purchase Count\":purchase_byItem[\"SN\"].count(),\n",
    "    \"Item Price\":purchase_byItem[\"Price\"].mean(),\n",
    "    \"Total Purchase Value\":purchase_byItem[\"Price\"].sum()\n",
    "})\n",
    "\n",
    "# Sort by Purchase Count, Format, and Output\n",
    "topItem_df[[\n",
    "    \"Purchase Count\",\n",
    "    \"Item Price\",\"Total Purchase Value\"\n",
    "]].sort_values(\n",
    "    by=[\"Purchase Count\", \"Total Purchase Value\"],\n",
    "    ascending=False\n",
    ").head().style.format({\n",
    "    \"Item Price\": \"${:.2f}\",\n",
    "    \"Total Purchase Value\": \"${:.2f}\"\n",
    "})"
   ]
  },
  {
   "cell_type": "code",
   "execution_count": 95,
   "metadata": {},
   "outputs": [
    {
     "data": {
      "text/plain": [
       "<matplotlib.axes._subplots.AxesSubplot at 0x114f5f198>"
      ]
     },
     "execution_count": 95,
     "metadata": {},
     "output_type": "execute_result"
    },
    {
     "data": {
      "image/png": "[encoded data removed]",
      "text/plain": [
       "<matplotlib.figure.Figure at 0x1156f58d0>"
      ]
     },
     "metadata": {},
     "output_type": "display_data"
    }
   ],
   "source": [
    "topItem_df.plot.hist(x='Purchase Count', y='Total Purchase Value')"
   ]
  },
  {
   "cell_type": "code",
   "execution_count": 96,
   "metadata": {},
   "outputs": [
    {
     "data": {
      "text/plain": [
       "<matplotlib.axes._subplots.AxesSubplot at 0x11571c6d8>"
      ]
     },
     "execution_count": 96,
     "metadata": {},
     "output_type": "execute_result"
    },
    {
     "data": {
      "image/png": "[encoded data removed]",
      "text/plain": [
       "<matplotlib.figure.Figure at 0x115a800f0>"
      ]
     },
     "metadata": {},
     "output_type": "display_data"
    }
   ],
   "source": [
    "topItem_df.plot.hist(x='Total Purchase Value', y='Purchase Count')"
   ]
  },
  {
   "cell_type": "code",
   "execution_count": 97,
   "metadata": {
    "scrolled": true
   },
   "outputs": [
    {
     "data": {
      "text/plain": [
       "<matplotlib.axes._subplots.AxesSubplot at 0x115a87390>"
      ]
     },
     "execution_count": 97,
     "metadata": {},
     "output_type": "execute_result"
    },
    {
     "data": {
      "image/png": "[encoded data removed]",
      "text/plain": [
       "<matplotlib.figure.Figure at 0x115ac0518>"
      ]
     },
     "metadata": {},
     "output_type": "display_data"
    }
   ],
   "source": [
    "topItem_df.plot.scatter(x='Item Price', y='Purchase Count')"
   ]
  },
  {
   "cell_type": "code",
   "execution_count": 98,
   "metadata": {},
   "outputs": [
    {
     "data": {
      "text/plain": [
       "<matplotlib.axes._subplots.AxesSubplot at 0x115c1b320>"
      ]
     },
     "execution_count": 98,
     "metadata": {},
     "output_type": "execute_result"
    },
    {
     "data": {
      "image/png": "[encoded data removed]",
      "text/plain": [
       "<matplotlib.figure.Figure at 0x11543c128>"
      ]
     },
     "metadata": {},
     "output_type": "display_data"
    }
   ],
   "source": [
    "topItem_df.plot.scatter(x='Item Price', y='Total Purchase Value')"
   ]
  },
  {
   "cell_type": "markdown",
   "metadata": {},
   "source": [
    "## Most Profitable Items"
   ]
  },
  {
   "cell_type": "code",
   "execution_count": 99,
   "metadata": {},
   "outputs": [
    {
     "data": {
      "text/html": [
       "<style  type=\"text/css\" >\n",
       "</style>  \n",
       "<table id=\"T_34f0e26c_21b7_11e8_a692_acde48001122\" > \n",
       "<thead>    <tr> \n",
       "        <th class=\"blank\" ></th> \n",
       "        <th class=\"blank level0\" ></th> \n",
       "        <th class=\"col_heading level0 col0\" >Purchase Count</th> \n",
       "        <th class=\"col_heading level0 col1\" >Item Price</th> \n",
       "        <th class=\"col_heading level0 col2\" >Total Purchase Value</th> \n",
       "    </tr>    <tr> \n",
       "        <th class=\"index_name level0\" >Item ID</th> \n",
       "        <th class=\"index_name level1\" >Item Name</th> \n",
       "        <th class=\"blank\" ></th> \n",
       "        <th class=\"blank\" ></th> \n",
       "        <th class=\"blank\" ></th> \n",
       "    </tr></thead> \n",
       "<tbody>    <tr> \n",
       "        <th id=\"T_34f0e26c_21b7_11e8_a692_acde48001122level0_row0\" class=\"row_heading level0 row0\" >34</th> \n",
       "        <th id=\"T_34f0e26c_21b7_11e8_a692_acde48001122level1_row0\" class=\"row_heading level1 row0\" >Retribution Axe</th> \n",
       "        <td id=\"T_34f0e26c_21b7_11e8_a692_acde48001122row0_col0\" class=\"data row0 col0\" >9</td> \n",
       "        <td id=\"T_34f0e26c_21b7_11e8_a692_acde48001122row0_col1\" class=\"data row0 col1\" >$4.14</td> \n",
       "        <td id=\"T_34f0e26c_21b7_11e8_a692_acde48001122row0_col2\" class=\"data row0 col2\" >$37.26</td> \n",
       "    </tr>    <tr> \n",
       "        <th id=\"T_34f0e26c_21b7_11e8_a692_acde48001122level0_row1\" class=\"row_heading level0 row1\" >107</th> \n",
       "        <th id=\"T_34f0e26c_21b7_11e8_a692_acde48001122level1_row1\" class=\"row_heading level1 row1\" >Splitter, Foe Of Subtlety</th> \n",
       "        <td id=\"T_34f0e26c_21b7_11e8_a692_acde48001122row1_col0\" class=\"data row1 col0\" >9</td> \n",
       "        <td id=\"T_34f0e26c_21b7_11e8_a692_acde48001122row1_col1\" class=\"data row1 col1\" >$3.67</td> \n",
       "        <td id=\"T_34f0e26c_21b7_11e8_a692_acde48001122row1_col2\" class=\"data row1 col2\" >$33.03</td> \n",
       "    </tr>    <tr> \n",
       "        <th id=\"T_34f0e26c_21b7_11e8_a692_acde48001122level0_row2\" class=\"row_heading level0 row2\" >115</th> \n",
       "        <th id=\"T_34f0e26c_21b7_11e8_a692_acde48001122level1_row2\" class=\"row_heading level1 row2\" >Spectral Diamond Doomblade</th> \n",
       "        <td id=\"T_34f0e26c_21b7_11e8_a692_acde48001122row2_col0\" class=\"data row2 col0\" >7</td> \n",
       "        <td id=\"T_34f0e26c_21b7_11e8_a692_acde48001122row2_col1\" class=\"data row2 col1\" >$4.25</td> \n",
       "        <td id=\"T_34f0e26c_21b7_11e8_a692_acde48001122row2_col2\" class=\"data row2 col2\" >$29.75</td> \n",
       "    </tr>    <tr> \n",
       "        <th id=\"T_34f0e26c_21b7_11e8_a692_acde48001122level0_row3\" class=\"row_heading level0 row3\" >32</th> \n",
       "        <th id=\"T_34f0e26c_21b7_11e8_a692_acde48001122level1_row3\" class=\"row_heading level1 row3\" >Orenmir</th> \n",
       "        <td id=\"T_34f0e26c_21b7_11e8_a692_acde48001122row3_col0\" class=\"data row3 col0\" >6</td> \n",
       "        <td id=\"T_34f0e26c_21b7_11e8_a692_acde48001122row3_col1\" class=\"data row3 col1\" >$4.95</td> \n",
       "        <td id=\"T_34f0e26c_21b7_11e8_a692_acde48001122row3_col2\" class=\"data row3 col2\" >$29.70</td> \n",
       "    </tr>    <tr> \n",
       "        <th id=\"T_34f0e26c_21b7_11e8_a692_acde48001122level0_row4\" class=\"row_heading level0 row4\" >84</th> \n",
       "        <th id=\"T_34f0e26c_21b7_11e8_a692_acde48001122level1_row4\" class=\"row_heading level1 row4\" >Arcane Gem</th> \n",
       "        <td id=\"T_34f0e26c_21b7_11e8_a692_acde48001122row4_col0\" class=\"data row4 col0\" >12</td> \n",
       "        <td id=\"T_34f0e26c_21b7_11e8_a692_acde48001122row4_col1\" class=\"data row4 col1\" >$2.45</td> \n",
       "        <td id=\"T_34f0e26c_21b7_11e8_a692_acde48001122row4_col2\" class=\"data row4 col2\" >$29.34</td> \n",
       "    </tr></tbody> \n",
       "</table> "
      ],
      "text/plain": [
       "<pandas.io.formats.style.Styler at 0x115713dd8>"
      ]
     },
     "execution_count": 99,
     "metadata": {},
     "output_type": "execute_result"
    }
   ],
   "source": [
    "# Sort by Total Purchase Value, Format and Output\n",
    "topItem_df[[\n",
    "    \"Purchase Count\",\n",
    "    \"Item Price\",\n",
    "    \"Total Purchase Value\"\n",
    "]].sort_values(\n",
    "    by=[\"Total Purchase Value\", \"Item Price\"],\n",
    "    ascending=False\n",
    ").head().style.format({\n",
    "    \"Item Price\": \"${:.2f}\",\n",
    "    \"Total Purchase Value\": \"${:.2f}\"\n",
    "})"
   ]
  },
  {
   "cell_type": "code",
   "execution_count": null,
   "metadata": {
    "collapsed": true
   },
   "outputs": [],
   "source": []
  },
  {
   "cell_type": "code",
   "execution_count": null,
   "metadata": {
    "collapsed": true
   },
   "outputs": [],
   "source": []
  }
 ],
 "metadata": {
  "kernelspec": {
   "display_name": "Python [conda env:PythonData]",
   "language": "python",
   "name": "conda-env-PythonData-py"
  },
  "language_info": {
   "codemirror_mode": {
    "name": "ipython",
    "version": 3
   },
   "file_extension": ".py",
   "mimetype": "text/x-python",
   "name": "python",
   "nbconvert_exporter": "python",
   "pygments_lexer": "ipython3",
   "version": "3.6.3"
  }
 },
 "nbformat": 4,
 "nbformat_minor": 2
}
