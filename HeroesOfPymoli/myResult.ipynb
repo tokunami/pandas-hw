{
 "cells": [
  {
   "cell_type": "markdown",
   "metadata": {},
   "source": [
    "# Heroes of Pymoli Data Analysis\n",
    "\n",
    "## three observable trends based on the data\n",
    "1. [User demographics] Early twenty player is the largest number(around 40%), late teen players are following (around 25%). Male players are more than 80%(N=612).\n",
    "![png](graphs/output_8_1.png)\n",
    "2. [the number of Item(s) users have] User count and total purchase count are strongly positive coefficient. It is assumed that most users have only 1 item. It is also supported by that more than 60% of users bought only 1 item, 25% of users boutht 2 items(N=858).\n",
    "![png](graphs/output_16_1.png)\n",
    "3. [Popular Item] No particular correlation between Item Price and the number of item sold."
   ]
  },
  {
   "cell_type": "code",
   "execution_count": 253,
   "metadata": {},
   "outputs": [],
   "source": [
    "# Import Dependencies\n",
    "import pandas as pd\n",
    "import os\n",
    "import mimetypes\n",
    "from functools import reduce\n",
    "\n",
    "# Path to resource files\n",
    "path = \"resources\"\n",
    "\n",
    "# Get a file name list\n",
    "fileList = [f for f in os.listdir(path) if (mimetypes.guess_type(f)[0] == \"application/json\")]\n",
    "# print(fileList)\n",
    "\n",
    "def mergeDF(directory, fileArr):\n",
    "    dfArr = []    \n",
    "    if len(fileArr) > 1:\n",
    "        for file in fileArr:\n",
    "            dfArr.append(pd.read_json(os.path.join(directory, file)))\n",
    "        df = reduce(lambda  left,right: pd.merge(left,right,how='outer'), dfArr)\n",
    "    else:\n",
    "        df = pd.read_json(os.path.join(directory, fileArr[0]))\n",
    "    return df\n",
    "\n",
    "# Create references to the json files and import it into a marged Pandas DataFrame\n",
    "purchase_df = mergeDF(path, fileList)\n",
    "# purchase_df"
   ]
  },
  {
   "cell_type": "markdown",
   "metadata": {},
   "source": [
    "## Player Count"
   ]
  },
  {
   "cell_type": "code",
   "execution_count": 224,
   "metadata": {},
   "outputs": [
    {
     "data": {
      "text/html": [
       "<div>\n",
       "<style>\n",
       "    .dataframe thead tr:only-child th {\n",
       "        text-align: right;\n",
       "    }\n",
       "\n",
       "    .dataframe thead th {\n",
       "        text-align: left;\n",
       "    }\n",
       "\n",
       "    .dataframe tbody tr th {\n",
       "        vertical-align: top;\n",
       "    }\n",
       "</style>\n",
       "<table border=\"1\" class=\"dataframe\">\n",
       "  <thead>\n",
       "    <tr style=\"text-align: right;\">\n",
       "      <th></th>\n",
       "      <th>Total Players</th>\n",
       "    </tr>\n",
       "  </thead>\n",
       "  <tbody>\n",
       "    <tr>\n",
       "      <th>0</th>\n",
       "      <td>612</td>\n",
       "    </tr>\n",
       "  </tbody>\n",
       "</table>\n",
       "</div>"
      ],
      "text/plain": [
       "   Total Players\n",
       "0            612"
      ]
     },
     "execution_count": 224,
     "metadata": {},
     "output_type": "execute_result"
    }
   ],
   "source": [
    "# Count the number of total players\n",
    "totalCount = purchase_df[\"SN\"].value_counts().count()\n",
    "pd.DataFrame({\"Total Players\": [totalCount]})"
   ]
  },
  {
   "cell_type": "markdown",
   "metadata": {},
   "source": [
    "## Purchasing Analysis (Total)"
   ]
  },
  {
   "cell_type": "code",
   "execution_count": 225,
   "metadata": {},
   "outputs": [
    {
     "data": {
      "text/html": [
       "<div>\n",
       "<style>\n",
       "    .dataframe thead tr:only-child th {\n",
       "        text-align: right;\n",
       "    }\n",
       "\n",
       "    .dataframe thead th {\n",
       "        text-align: left;\n",
       "    }\n",
       "\n",
       "    .dataframe tbody tr th {\n",
       "        vertical-align: top;\n",
       "    }\n",
       "</style>\n",
       "<table border=\"1\" class=\"dataframe\">\n",
       "  <thead>\n",
       "    <tr style=\"text-align: right;\">\n",
       "      <th></th>\n",
       "      <th>Number of Unique Items</th>\n",
       "      <th>Average Purchase Price</th>\n",
       "      <th>Total Number of Purchases</th>\n",
       "      <th>Total Revenue</th>\n",
       "    </tr>\n",
       "  </thead>\n",
       "  <tbody>\n",
       "    <tr>\n",
       "      <th>0</th>\n",
       "      <td>184</td>\n",
       "      <td>$2.93</td>\n",
       "      <td>858</td>\n",
       "      <td>$2514.43</td>\n",
       "    </tr>\n",
       "  </tbody>\n",
       "</table>\n",
       "</div>"
      ],
      "text/plain": [
       "   Number of Unique Items Average Purchase Price  Total Number of Purchases  \\\n",
       "0                     184                  $2.93                        858   \n",
       "\n",
       "  Total Revenue  \n",
       "0      $2514.43  "
      ]
     },
     "execution_count": 225,
     "metadata": {},
     "output_type": "execute_result"
    }
   ],
   "source": [
    "# Create a new df with formatting\n",
    "purchasingAnalysis_df = pd.DataFrame({\n",
    "    \"Number of Unique Items\":[purchase_df[\"Item ID\"].value_counts().count()],\n",
    "    \"Average Purchase Price\":[\"$\" + str(round(purchase_df[\"Price\"].mean(),2))],\n",
    "    \"Total Number of Purchases\":[len(purchase_df.index)],\n",
    "    \"Total Revenue\":[\"$\" + str(round(purchase_df[\"Price\"].sum(),2))]\n",
    "})\n",
    "\n",
    "# Output\n",
    "purchasingAnalysis_df[[\n",
    "    \"Number of Unique Items\",\n",
    "    \"Average Purchase Price\",\n",
    "    \"Total Number of Purchases\",\n",
    "    \"Total Revenue\"\n",
    "]]"
   ]
  },
  {
   "cell_type": "markdown",
   "metadata": {},
   "source": [
    "## Gender Demographics"
   ]
  },
  {
   "cell_type": "code",
   "execution_count": 226,
   "metadata": {},
   "outputs": [
    {
     "data": {
      "text/html": [
       "<div>\n",
       "<style>\n",
       "    .dataframe thead tr:only-child th {\n",
       "        text-align: right;\n",
       "    }\n",
       "\n",
       "    .dataframe thead th {\n",
       "        text-align: left;\n",
       "    }\n",
       "\n",
       "    .dataframe tbody tr th {\n",
       "        vertical-align: top;\n",
       "    }\n",
       "</style>\n",
       "<table border=\"1\" class=\"dataframe\">\n",
       "  <thead>\n",
       "    <tr style=\"text-align: right;\">\n",
       "      <th></th>\n",
       "      <th>Percentage of Players</th>\n",
       "      <th>Total Count</th>\n",
       "    </tr>\n",
       "    <tr>\n",
       "      <th>Gender</th>\n",
       "      <th></th>\n",
       "      <th></th>\n",
       "    </tr>\n",
       "  </thead>\n",
       "  <tbody>\n",
       "    <tr>\n",
       "      <th>Male</th>\n",
       "      <td>80.88%</td>\n",
       "      <td>495</td>\n",
       "    </tr>\n",
       "    <tr>\n",
       "      <th>Female</th>\n",
       "      <td>17.65%</td>\n",
       "      <td>108</td>\n",
       "    </tr>\n",
       "    <tr>\n",
       "      <th>Other / Non-Disclosed</th>\n",
       "      <td>1.47%</td>\n",
       "      <td>9</td>\n",
       "    </tr>\n",
       "  </tbody>\n",
       "</table>\n",
       "</div>"
      ],
      "text/plain": [
       "                      Percentage of Players  Total Count\n",
       "Gender                                                  \n",
       "Male                                 80.88%          495\n",
       "Female                               17.65%          108\n",
       "Other / Non-Disclosed                 1.47%            9"
      ]
     },
     "execution_count": 226,
     "metadata": {},
     "output_type": "execute_result"
    }
   ],
   "source": [
    "# Create a new df removed duplicated \"SN\"\n",
    "uniquePlayers_df = purchase_df[~purchase_df[\"SN\"].duplicated()]\n",
    "# uniquePlayers_df\n",
    "\n",
    "# Group by gender\n",
    "gender = uniquePlayers_df.groupby(\"Gender\")\n",
    "\n",
    "# Create a new df\n",
    "gender_df = pd.DataFrame({\n",
    "    \"Percentage of Players\": gender[\"Age\"].count()/totalCount,\n",
    "    \"Total Count\":gender[\"Age\"].count()\n",
    "})\n",
    "\n",
    "# Format\n",
    "gender_df[\"Percentage of Players\"] = gender_df[\"Percentage of Players\"].map(\"{:.2%}\".format)\n",
    "\n",
    "# Sort and Output\n",
    "gender_df.sort_values(by=\"Total Count\",ascending=False)"
   ]
  },
  {
   "cell_type": "code",
   "execution_count": 126,
   "metadata": {},
   "outputs": [
    {
     "data": {
      "text/plain": [
       "(-1.1056525356513272,\n",
       " 1.1002691684587598,\n",
       " -1.1061276225600638,\n",
       " 1.1053838469607085)"
      ]
     },
     "execution_count": 126,
     "metadata": {},
     "output_type": "execute_result"
    },
    {
     "data": {
      "image/png": "[encoded data removed]",
      "text/plain": [
       "<matplotlib.figure.Figure at 0x119d04710>"
      ]
     },
     "metadata": {},
     "output_type": "display_data"
    }
   ],
   "source": [
    "%matplotlib inline\n",
    "gender_df.plot.pie(\"Total Count\").axis(\"equal\")"
   ]
  },
  {
   "cell_type": "markdown",
   "metadata": {},
   "source": [
    "## Purchasing Analysis (Gender)"
   ]
  },
  {
   "cell_type": "code",
   "execution_count": 227,
   "metadata": {},
   "outputs": [
    {
     "data": {
      "text/html": [
       "<style  type=\"text/css\" >\n",
       "</style>  \n",
       "<table id=\"T_1909c5b6_1fb7_11e8_bfa2_1a00d4419701\" > \n",
       "<thead>    <tr> \n",
       "        <th class=\"blank level0\" ></th> \n",
       "        <th class=\"col_heading level0 col0\" >Purchase Count</th> \n",
       "        <th class=\"col_heading level0 col1\" >Average Purchase Price</th> \n",
       "        <th class=\"col_heading level0 col2\" >Total Purchase Value</th> \n",
       "        <th class=\"col_heading level0 col3\" >Normalized Totals</th> \n",
       "    </tr>    <tr> \n",
       "        <th class=\"index_name level0\" >Gender</th> \n",
       "        <th class=\"blank\" ></th> \n",
       "        <th class=\"blank\" ></th> \n",
       "        <th class=\"blank\" ></th> \n",
       "        <th class=\"blank\" ></th> \n",
       "    </tr></thead> \n",
       "<tbody>    <tr> \n",
       "        <th id=\"T_1909c5b6_1fb7_11e8_bfa2_1a00d4419701level0_row0\" class=\"row_heading level0 row0\" >Female</th> \n",
       "        <td id=\"T_1909c5b6_1fb7_11e8_bfa2_1a00d4419701row0_col0\" class=\"data row0 col0\" >108</td> \n",
       "        <td id=\"T_1909c5b6_1fb7_11e8_bfa2_1a00d4419701row0_col1\" class=\"data row0 col1\" >$2.93</td> \n",
       "        <td id=\"T_1909c5b6_1fb7_11e8_bfa2_1a00d4419701row0_col2\" class=\"data row0 col2\" >$316.62</td> \n",
       "        <td id=\"T_1909c5b6_1fb7_11e8_bfa2_1a00d4419701row0_col3\" class=\"data row0 col3\" >$3.30</td> \n",
       "    </tr>    <tr> \n",
       "        <th id=\"T_1909c5b6_1fb7_11e8_bfa2_1a00d4419701level0_row1\" class=\"row_heading level0 row1\" >Male</th> \n",
       "        <td id=\"T_1909c5b6_1fb7_11e8_bfa2_1a00d4419701row1_col0\" class=\"data row1 col0\" >495</td> \n",
       "        <td id=\"T_1909c5b6_1fb7_11e8_bfa2_1a00d4419701row1_col1\" class=\"data row1 col1\" >$3.00</td> \n",
       "        <td id=\"T_1909c5b6_1fb7_11e8_bfa2_1a00d4419701row1_col2\" class=\"data row1 col2\" >$1486.37</td> \n",
       "        <td id=\"T_1909c5b6_1fb7_11e8_bfa2_1a00d4419701row1_col3\" class=\"data row1 col3\" >$3.31</td> \n",
       "    </tr>    <tr> \n",
       "        <th id=\"T_1909c5b6_1fb7_11e8_bfa2_1a00d4419701level0_row2\" class=\"row_heading level0 row2\" >Other / Non-Disclosed</th> \n",
       "        <td id=\"T_1909c5b6_1fb7_11e8_bfa2_1a00d4419701row2_col0\" class=\"data row2 col0\" >9</td> \n",
       "        <td id=\"T_1909c5b6_1fb7_11e8_bfa2_1a00d4419701row2_col1\" class=\"data row2 col1\" >$3.30</td> \n",
       "        <td id=\"T_1909c5b6_1fb7_11e8_bfa2_1a00d4419701row2_col2\" class=\"data row2 col2\" >$29.70</td> \n",
       "        <td id=\"T_1909c5b6_1fb7_11e8_bfa2_1a00d4419701row2_col3\" class=\"data row2 col3\" >$2.79</td> \n",
       "    </tr></tbody> \n",
       "</table> "
      ],
      "text/plain": [
       "<pandas.io.formats.style.Styler at 0x12086af98>"
      ]
     },
     "execution_count": 227,
     "metadata": {},
     "output_type": "execute_result"
    }
   ],
   "source": [
    "# Create a new df\n",
    "purchasing_gender_df = pd.DataFrame({\n",
    "    \"Purchase Count\": gender_df[\"Total Count\"],\n",
    "    \"Average Purchase Price\":gender[\"Price\"].mean(),\n",
    "    \"Total Purchase Value\":gender[\"Price\"].sum(),\n",
    "    \"Normalized Totals\":gender[\"Price\"].mean()*gender[\"Price\"].std()\n",
    "})\n",
    "\n",
    "#Format and Output\n",
    "purchasing_gender_df[[\n",
    "    \"Purchase Count\",\n",
    "    \"Average Purchase Price\",\n",
    "    \"Total Purchase Value\",\n",
    "    \"Normalized Totals\"\n",
    "]].style.format({\n",
    "    \"Average Purchase Price\":\"${:.2f}\",\n",
    "    \"Total Purchase Value\":\"${:.2f}\",\n",
    "    \"Normalized Totals\":\"${:.2f}\"\n",
    "})"
   ]
  },
  {
   "cell_type": "markdown",
   "metadata": {},
   "source": [
    "## Age Demographics"
   ]
  },
  {
   "cell_type": "code",
   "execution_count": 228,
   "metadata": {},
   "outputs": [
    {
     "name": "stderr",
     "output_type": "stream",
     "text": [
      "/Users/tokunaga/.pyenv/versions/anaconda3-5.0.0/envs/PythonData/lib/python3.6/site-packages/ipykernel/__main__.py:6: SettingWithCopyWarning: \n",
      "A value is trying to be set on a copy of a slice from a DataFrame.\n",
      "Try using .loc[row_indexer,col_indexer] = value instead\n",
      "\n",
      "See the caveats in the documentation: http://pandas.pydata.org/pandas-docs/stable/indexing.html#indexing-view-versus-copy\n"
     ]
    },
    {
     "data": {
      "text/html": [
       "<style  type=\"text/css\" >\n",
       "</style>  \n",
       "<table id=\"T_1bb23a34_1fb7_11e8_b25c_1a00d4419701\" > \n",
       "<thead>    <tr> \n",
       "        <th class=\"blank level0\" ></th> \n",
       "        <th class=\"col_heading level0 col0\" >Percentage of Players</th> \n",
       "        <th class=\"col_heading level0 col1\" >Total Count</th> \n",
       "    </tr>    <tr> \n",
       "        <th class=\"index_name level0\" >ageRange</th> \n",
       "        <th class=\"blank\" ></th> \n",
       "        <th class=\"blank\" ></th> \n",
       "    </tr></thead> \n",
       "<tbody>    <tr> \n",
       "        <th id=\"T_1bb23a34_1fb7_11e8_b25c_1a00d4419701level0_row0\" class=\"row_heading level0 row0\" >< 10</th> \n",
       "        <td id=\"T_1bb23a34_1fb7_11e8_b25c_1a00d4419701row0_col0\" class=\"data row0 col0\" >3.92%</td> \n",
       "        <td id=\"T_1bb23a34_1fb7_11e8_b25c_1a00d4419701row0_col1\" class=\"data row0 col1\" >24</td> \n",
       "    </tr>    <tr> \n",
       "        <th id=\"T_1bb23a34_1fb7_11e8_b25c_1a00d4419701level0_row1\" class=\"row_heading level0 row1\" >10 - 14</th> \n",
       "        <td id=\"T_1bb23a34_1fb7_11e8_b25c_1a00d4419701row1_col0\" class=\"data row1 col0\" >9.31%</td> \n",
       "        <td id=\"T_1bb23a34_1fb7_11e8_b25c_1a00d4419701row1_col1\" class=\"data row1 col1\" >57</td> \n",
       "    </tr>    <tr> \n",
       "        <th id=\"T_1bb23a34_1fb7_11e8_b25c_1a00d4419701level0_row2\" class=\"row_heading level0 row2\" >15 - 19</th> \n",
       "        <td id=\"T_1bb23a34_1fb7_11e8_b25c_1a00d4419701row2_col0\" class=\"data row2 col0\" >24.51%</td> \n",
       "        <td id=\"T_1bb23a34_1fb7_11e8_b25c_1a00d4419701row2_col1\" class=\"data row2 col1\" >150</td> \n",
       "    </tr>    <tr> \n",
       "        <th id=\"T_1bb23a34_1fb7_11e8_b25c_1a00d4419701level0_row3\" class=\"row_heading level0 row3\" >20 - 24</th> \n",
       "        <td id=\"T_1bb23a34_1fb7_11e8_b25c_1a00d4419701row3_col0\" class=\"data row3 col0\" >40.20%</td> \n",
       "        <td id=\"T_1bb23a34_1fb7_11e8_b25c_1a00d4419701row3_col1\" class=\"data row3 col1\" >246</td> \n",
       "    </tr>    <tr> \n",
       "        <th id=\"T_1bb23a34_1fb7_11e8_b25c_1a00d4419701level0_row4\" class=\"row_heading level0 row4\" >25 - 29</th> \n",
       "        <td id=\"T_1bb23a34_1fb7_11e8_b25c_1a00d4419701row4_col0\" class=\"data row4 col0\" >8.99%</td> \n",
       "        <td id=\"T_1bb23a34_1fb7_11e8_b25c_1a00d4419701row4_col1\" class=\"data row4 col1\" >55</td> \n",
       "    </tr>    <tr> \n",
       "        <th id=\"T_1bb23a34_1fb7_11e8_b25c_1a00d4419701level0_row5\" class=\"row_heading level0 row5\" >30 - 34</th> \n",
       "        <td id=\"T_1bb23a34_1fb7_11e8_b25c_1a00d4419701row5_col0\" class=\"data row5 col0\" >7.84%</td> \n",
       "        <td id=\"T_1bb23a34_1fb7_11e8_b25c_1a00d4419701row5_col1\" class=\"data row5 col1\" >48</td> \n",
       "    </tr>    <tr> \n",
       "        <th id=\"T_1bb23a34_1fb7_11e8_b25c_1a00d4419701level0_row6\" class=\"row_heading level0 row6\" >35 - 39</th> \n",
       "        <td id=\"T_1bb23a34_1fb7_11e8_b25c_1a00d4419701row6_col0\" class=\"data row6 col0\" >4.74%</td> \n",
       "        <td id=\"T_1bb23a34_1fb7_11e8_b25c_1a00d4419701row6_col1\" class=\"data row6 col1\" >29</td> \n",
       "    </tr>    <tr> \n",
       "        <th id=\"T_1bb23a34_1fb7_11e8_b25c_1a00d4419701level0_row7\" class=\"row_heading level0 row7\" >40 - 45</th> \n",
       "        <td id=\"T_1bb23a34_1fb7_11e8_b25c_1a00d4419701row7_col0\" class=\"data row7 col0\" >0.49%</td> \n",
       "        <td id=\"T_1bb23a34_1fb7_11e8_b25c_1a00d4419701row7_col1\" class=\"data row7 col1\" >3</td> \n",
       "    </tr></tbody> \n",
       "</table> "
      ],
      "text/plain": [
       "<pandas.io.formats.style.Styler at 0x1108f0470>"
      ]
     },
     "execution_count": 228,
     "metadata": {},
     "output_type": "execute_result"
    }
   ],
   "source": [
    "# Set bins and labels\n",
    "# print(purchase_df[\"Age\"].min())\n",
    "# print(purchase_df[\"Age\"].max())\n",
    "bins = [0,10,15,20,25,30,35,40,45]\n",
    "group_labels = [\"< 10\",\"10 - 14\",\"15 - 19\",\"20 - 24\",\"25 - 29\",\"30 - 34\",\"35 - 39\",\"40 - 45\"]\n",
    "uniquePlayers_df[\"ageRange\"] = pd.cut(uniquePlayers_df[\"Age\"],bins,labels=group_labels)\n",
    "# uniquePlayers_df.head()\n",
    "\n",
    "# Group by ageRange\n",
    "uniquePlayers_ageRange = uniquePlayers_df.groupby(\"ageRange\")\n",
    "\n",
    "# Format and Output\n",
    "uniquePlayers_ageRange_df = pd.DataFrame({\n",
    "    \"Percentage of Players\":uniquePlayers_ageRange[\"Age\"].count()/totalCount,\n",
    "    \"Total Count\": uniquePlayers_ageRange[\"Age\"].count()\n",
    "})\n",
    "uniquePlayers_ageRange_df.style.format({\n",
    "    \"Percentage of Players\": \"{:.2%}\"\n",
    "})"
   ]
  },
  {
   "cell_type": "code",
   "execution_count": 230,
   "metadata": {},
   "outputs": [
    {
     "data": {
      "text/plain": [
       "<matplotlib.axes._subplots.AxesSubplot at 0x120b6c780>"
      ]
     },
     "execution_count": 230,
     "metadata": {},
     "output_type": "execute_result"
    },
    {
     "data": {
      "image/png": "[encoded data removed]",
      "text/plain": [
       "<matplotlib.figure.Figure at 0x1107002e8>"
      ]
     },
     "metadata": {},
     "output_type": "display_data"
    }
   ],
   "source": [
    "uniquePlayers_ageRange_df[\"Percentage of Players\"].hist()\n",
    "# TODO fix bug"
   ]
  },
  {
   "cell_type": "markdown",
   "metadata": {},
   "source": [
    "## Purchasing Analysis (Age)"
   ]
  },
  {
   "cell_type": "code",
   "execution_count": 234,
   "metadata": {},
   "outputs": [
    {
     "data": {
      "text/html": [
       "<style  type=\"text/css\" >\n",
       "</style>  \n",
       "<table id=\"T_c04ef81e_1fb7_11e8_bfe5_1a00d4419701\" > \n",
       "<thead>    <tr> \n",
       "        <th class=\"blank level0\" ></th> \n",
       "        <th class=\"col_heading level0 col0\" >User Count</th> \n",
       "        <th class=\"col_heading level0 col1\" >Purchase Count</th> \n",
       "        <th class=\"col_heading level0 col2\" >Average Purchase Price per once</th> \n",
       "        <th class=\"col_heading level0 col3\" >Average Purchase Price per person</th> \n",
       "        <th class=\"col_heading level0 col4\" >Total Purchase Value</th> \n",
       "        <th class=\"col_heading level0 col5\" >Normalized Totals</th> \n",
       "    </tr>    <tr> \n",
       "        <th class=\"index_name level0\" >ageRange</th> \n",
       "        <th class=\"blank\" ></th> \n",
       "        <th class=\"blank\" ></th> \n",
       "        <th class=\"blank\" ></th> \n",
       "        <th class=\"blank\" ></th> \n",
       "        <th class=\"blank\" ></th> \n",
       "        <th class=\"blank\" ></th> \n",
       "    </tr></thead> \n",
       "<tbody>    <tr> \n",
       "        <th id=\"T_c04ef81e_1fb7_11e8_bfe5_1a00d4419701level0_row0\" class=\"row_heading level0 row0\" >< 10</th> \n",
       "        <td id=\"T_c04ef81e_1fb7_11e8_bfe5_1a00d4419701row0_col0\" class=\"data row0 col0\" >24</td> \n",
       "        <td id=\"T_c04ef81e_1fb7_11e8_bfe5_1a00d4419701row0_col1\" class=\"data row0 col1\" >32</td> \n",
       "        <td id=\"T_c04ef81e_1fb7_11e8_bfe5_1a00d4419701row0_col2\" class=\"data row0 col2\" >$3.25</td> \n",
       "        <td id=\"T_c04ef81e_1fb7_11e8_bfe5_1a00d4419701row0_col3\" class=\"data row0 col3\" >$4.63</td> \n",
       "        <td id=\"T_c04ef81e_1fb7_11e8_bfe5_1a00d4419701row0_col4\" class=\"data row0 col4\" >$101.90</td> \n",
       "        <td id=\"T_c04ef81e_1fb7_11e8_bfe5_1a00d4419701row0_col5\" class=\"data row0 col5\" >$9.71</td> \n",
       "    </tr>    <tr> \n",
       "        <th id=\"T_c04ef81e_1fb7_11e8_bfe5_1a00d4419701level0_row1\" class=\"row_heading level0 row1\" >10 - 14</th> \n",
       "        <td id=\"T_c04ef81e_1fb7_11e8_bfe5_1a00d4419701row1_col0\" class=\"data row1 col0\" >57</td> \n",
       "        <td id=\"T_c04ef81e_1fb7_11e8_bfe5_1a00d4419701row1_col1\" class=\"data row1 col1\" >79</td> \n",
       "        <td id=\"T_c04ef81e_1fb7_11e8_bfe5_1a00d4419701row1_col2\" class=\"data row1 col2\" >$2.89</td> \n",
       "        <td id=\"T_c04ef81e_1fb7_11e8_bfe5_1a00d4419701row1_col3\" class=\"data row1 col3\" >$4.05</td> \n",
       "        <td id=\"T_c04ef81e_1fb7_11e8_bfe5_1a00d4419701row1_col4\" class=\"data row1 col4\" >$226.83</td> \n",
       "        <td id=\"T_c04ef81e_1fb7_11e8_bfe5_1a00d4419701row1_col5\" class=\"data row1 col5\" >$9.12</td> \n",
       "    </tr>    <tr> \n",
       "        <th id=\"T_c04ef81e_1fb7_11e8_bfe5_1a00d4419701level0_row2\" class=\"row_heading level0 row2\" >15 - 19</th> \n",
       "        <td id=\"T_c04ef81e_1fb7_11e8_bfe5_1a00d4419701row2_col0\" class=\"data row2 col0\" >150</td> \n",
       "        <td id=\"T_c04ef81e_1fb7_11e8_bfe5_1a00d4419701row2_col1\" class=\"data row2 col1\" >205</td> \n",
       "        <td id=\"T_c04ef81e_1fb7_11e8_bfe5_1a00d4419701row2_col2\" class=\"data row2 col2\" >$2.88</td> \n",
       "        <td id=\"T_c04ef81e_1fb7_11e8_bfe5_1a00d4419701row2_col3\" class=\"data row2 col3\" >$3.91</td> \n",
       "        <td id=\"T_c04ef81e_1fb7_11e8_bfe5_1a00d4419701row2_col4\" class=\"data row2 col4\" >$586.40</td> \n",
       "        <td id=\"T_c04ef81e_1fb7_11e8_bfe5_1a00d4419701row2_col5\" class=\"data row2 col5\" >$8.37</td> \n",
       "    </tr>    <tr> \n",
       "        <th id=\"T_c04ef81e_1fb7_11e8_bfe5_1a00d4419701level0_row3\" class=\"row_heading level0 row3\" >20 - 24</th> \n",
       "        <td id=\"T_c04ef81e_1fb7_11e8_bfe5_1a00d4419701row3_col0\" class=\"data row3 col0\" >246</td> \n",
       "        <td id=\"T_c04ef81e_1fb7_11e8_bfe5_1a00d4419701row3_col1\" class=\"data row3 col1\" >344</td> \n",
       "        <td id=\"T_c04ef81e_1fb7_11e8_bfe5_1a00d4419701row3_col2\" class=\"data row3 col2\" >$2.97</td> \n",
       "        <td id=\"T_c04ef81e_1fb7_11e8_bfe5_1a00d4419701row3_col3\" class=\"data row3 col3\" >$4.05</td> \n",
       "        <td id=\"T_c04ef81e_1fb7_11e8_bfe5_1a00d4419701row3_col4\" class=\"data row3 col4\" >$1016.20</td> \n",
       "        <td id=\"T_c04ef81e_1fb7_11e8_bfe5_1a00d4419701row3_col5\" class=\"data row3 col5\" >$9.02</td> \n",
       "    </tr>    <tr> \n",
       "        <th id=\"T_c04ef81e_1fb7_11e8_bfe5_1a00d4419701level0_row4\" class=\"row_heading level0 row4\" >25 - 29</th> \n",
       "        <td id=\"T_c04ef81e_1fb7_11e8_bfe5_1a00d4419701row4_col0\" class=\"data row4 col0\" >55</td> \n",
       "        <td id=\"T_c04ef81e_1fb7_11e8_bfe5_1a00d4419701row4_col1\" class=\"data row4 col1\" >82</td> \n",
       "        <td id=\"T_c04ef81e_1fb7_11e8_bfe5_1a00d4419701row4_col2\" class=\"data row4 col2\" >$2.86</td> \n",
       "        <td id=\"T_c04ef81e_1fb7_11e8_bfe5_1a00d4419701row4_col3\" class=\"data row4 col3\" >$4.19</td> \n",
       "        <td id=\"T_c04ef81e_1fb7_11e8_bfe5_1a00d4419701row4_col4\" class=\"data row4 col4\" >$230.67</td> \n",
       "        <td id=\"T_c04ef81e_1fb7_11e8_bfe5_1a00d4419701row4_col5\" class=\"data row4 col5\" >$11.12</td> \n",
       "    </tr>    <tr> \n",
       "        <th id=\"T_c04ef81e_1fb7_11e8_bfe5_1a00d4419701level0_row5\" class=\"row_heading level0 row5\" >30 - 34</th> \n",
       "        <td id=\"T_c04ef81e_1fb7_11e8_bfe5_1a00d4419701row5_col0\" class=\"data row5 col0\" >48</td> \n",
       "        <td id=\"T_c04ef81e_1fb7_11e8_bfe5_1a00d4419701row5_col1\" class=\"data row5 col1\" >69</td> \n",
       "        <td id=\"T_c04ef81e_1fb7_11e8_bfe5_1a00d4419701row5_col2\" class=\"data row5 col2\" >$3.14</td> \n",
       "        <td id=\"T_c04ef81e_1fb7_11e8_bfe5_1a00d4419701row5_col3\" class=\"data row5 col3\" >$4.35</td> \n",
       "        <td id=\"T_c04ef81e_1fb7_11e8_bfe5_1a00d4419701row5_col4\" class=\"data row5 col4\" >$213.22</td> \n",
       "        <td id=\"T_c04ef81e_1fb7_11e8_bfe5_1a00d4419701row5_col5\" class=\"data row5 col5\" >$10.79</td> \n",
       "    </tr>    <tr> \n",
       "        <th id=\"T_c04ef81e_1fb7_11e8_bfe5_1a00d4419701level0_row6\" class=\"row_heading level0 row6\" >35 - 39</th> \n",
       "        <td id=\"T_c04ef81e_1fb7_11e8_bfe5_1a00d4419701row6_col0\" class=\"data row6 col0\" >29</td> \n",
       "        <td id=\"T_c04ef81e_1fb7_11e8_bfe5_1a00d4419701row6_col1\" class=\"data row6 col1\" >44</td> \n",
       "        <td id=\"T_c04ef81e_1fb7_11e8_bfe5_1a00d4419701row6_col2\" class=\"data row6 col2\" >$2.96</td> \n",
       "        <td id=\"T_c04ef81e_1fb7_11e8_bfe5_1a00d4419701row6_col3\" class=\"data row6 col3\" >$5.02</td> \n",
       "        <td id=\"T_c04ef81e_1fb7_11e8_bfe5_1a00d4419701row6_col4\" class=\"data row6 col4\" >$130.57</td> \n",
       "        <td id=\"T_c04ef81e_1fb7_11e8_bfe5_1a00d4419701row6_col5\" class=\"data row6 col5\" >$15.58</td> \n",
       "    </tr>    <tr> \n",
       "        <th id=\"T_c04ef81e_1fb7_11e8_bfe5_1a00d4419701level0_row7\" class=\"row_heading level0 row7\" >40 - 45</th> \n",
       "        <td id=\"T_c04ef81e_1fb7_11e8_bfe5_1a00d4419701row7_col0\" class=\"data row7 col0\" >3</td> \n",
       "        <td id=\"T_c04ef81e_1fb7_11e8_bfe5_1a00d4419701row7_col1\" class=\"data row7 col1\" >3</td> \n",
       "        <td id=\"T_c04ef81e_1fb7_11e8_bfe5_1a00d4419701row7_col2\" class=\"data row7 col2\" >$2.88</td> \n",
       "        <td id=\"T_c04ef81e_1fb7_11e8_bfe5_1a00d4419701row7_col3\" class=\"data row7 col3\" >$2.88</td> \n",
       "        <td id=\"T_c04ef81e_1fb7_11e8_bfe5_1a00d4419701row7_col4\" class=\"data row7 col4\" >$8.64</td> \n",
       "        <td id=\"T_c04ef81e_1fb7_11e8_bfe5_1a00d4419701row7_col5\" class=\"data row7 col5\" >$2.48</td> \n",
       "    </tr></tbody> \n",
       "</table> "
      ],
      "text/plain": [
       "<pandas.io.formats.style.Styler at 0x120ca8550>"
      ]
     },
     "execution_count": 234,
     "metadata": {},
     "output_type": "execute_result"
    }
   ],
   "source": [
    "# Group by SN\n",
    "dataBySN = purchase_df.groupby(\"SN\").mean()\n",
    "\n",
    "# Set bins and labels\n",
    "bins = [0,10,15,20,25,30,35,40,45]\n",
    "group_labels = [\"< 10\",\"10 - 14\",\"15 - 19\",\"20 - 24\",\"25 - 29\",\"30 - 34\",\"35 - 39\",\"40 - 45\"]\n",
    "\n",
    "# Add ageRange row using cut\n",
    "dataBySN[\"ageRange\"] = pd.cut(dataBySN[\"Age\"],bins,labels=group_labels)\n",
    "\n",
    "# Add other rows\n",
    "dataBySN[\"purchasePrice\"] = purchase_df.groupby(\"SN\").mean()[\"Price\"]\n",
    "dataBySN[\"totalPrice\"] = purchase_df.groupby(\"SN\").sum()[\"Price\"]\n",
    "dataBySN[\"purchaseCount\"] = purchase_df.groupby(\"SN\").count()[\"Age\"]\n",
    "# dataBySN\n",
    "\n",
    "# Group by ageRange\n",
    "dataBySN_ageRange = dataBySN.groupby(\"ageRange\")\n",
    "\n",
    "# Create a new df\n",
    "dataBySN_ageRange_df = pd.DataFrame({\n",
    "    \"User Count\": uniquePlayers_ageRange_df[\"Total Count\"],\n",
    "    \"Purchase Count\": dataBySN_ageRange[\"purchaseCount\"].sum(),\n",
    "    \"Average Purchase Price per once\": dataBySN_ageRange[\"purchasePrice\"].mean(),\n",
    "    \"Average Purchase Price per person\": dataBySN_ageRange[\"totalPrice\"].mean(),\n",
    "    \"Total Purchase Value\": dataBySN_ageRange[\"totalPrice\"].sum(),\n",
    "    \"Normalized Totals\": dataBySN_ageRange[\"totalPrice\"].mean()*dataBySN_ageRange[\"totalPrice\"].std()\n",
    "})\n",
    "\n",
    "# Format and Output\n",
    "dataBySN_ageRange_df[[\n",
    "    \"User Count\",\n",
    "    \"Purchase Count\",\n",
    "    \"Average Purchase Price per once\",\n",
    "    \"Average Purchase Price per person\",\n",
    "    \"Total Purchase Value\",\n",
    "    \"Normalized Totals\"\n",
    "]].style.format({\n",
    "    \"Average Purchase Price per once\":\"${:.2f}\",\n",
    "    \"Average Purchase Price per person\":\"${:.2f}\",\n",
    "    \"Total Purchase Value\":\"${:.2f}\",\n",
    "    \"Normalized Totals\":\"${:.2f}\"\n",
    "})"
   ]
  },
  {
   "cell_type": "code",
   "execution_count": 235,
   "metadata": {},
   "outputs": [
    {
     "data": {
      "text/plain": [
       "<matplotlib.axes._subplots.AxesSubplot at 0x120c29a90>"
      ]
     },
     "execution_count": 235,
     "metadata": {},
     "output_type": "execute_result"
    },
    {
     "data": {
      "image/png": "[encoded data removed]",
      "text/plain": [
       "<matplotlib.figure.Figure at 0x120ca30f0>"
      ]
     },
     "metadata": {},
     "output_type": "display_data"
    }
   ],
   "source": [
    "dataBySN_ageRange_df.plot.scatter(x='User Count', y='Purchase Count')"
   ]
  },
  {
   "cell_type": "code",
   "execution_count": 236,
   "metadata": {},
   "outputs": [
    {
     "data": {
      "text/plain": [
       "<matplotlib.axes._subplots.AxesSubplot at 0x1209eec50>"
      ]
     },
     "execution_count": 236,
     "metadata": {},
     "output_type": "execute_result"
    },
    {
     "data": {
      "image/png": "[encoded data removed]",
      "text/plain": [
       "<matplotlib.figure.Figure at 0x120cafb00>"
      ]
     },
     "metadata": {},
     "output_type": "display_data"
    }
   ],
   "source": [
    "dataBySN_ageRange_df.plot.scatter(x='Average Purchase Price per person', y='Average Purchase Price per once')"
   ]
  },
  {
   "cell_type": "markdown",
   "metadata": {},
   "source": [
    "## Top Spenders"
   ]
  },
  {
   "cell_type": "code",
   "execution_count": 237,
   "metadata": {},
   "outputs": [
    {
     "data": {
      "text/html": [
       "<style  type=\"text/css\" >\n",
       "</style>  \n",
       "<table id=\"T_c5fe3bee_1fb7_11e8_825e_1a00d4419701\" > \n",
       "<thead>    <tr> \n",
       "        <th class=\"blank level0\" ></th> \n",
       "        <th class=\"col_heading level0 col0\" >Purchase Count</th> \n",
       "        <th class=\"col_heading level0 col1\" >Average Purchase Price</th> \n",
       "        <th class=\"col_heading level0 col2\" >Total Purchase Value</th> \n",
       "    </tr>    <tr> \n",
       "        <th class=\"index_name level0\" >SN</th> \n",
       "        <th class=\"blank\" ></th> \n",
       "        <th class=\"blank\" ></th> \n",
       "        <th class=\"blank\" ></th> \n",
       "    </tr></thead> \n",
       "<tbody>    <tr> \n",
       "        <th id=\"T_c5fe3bee_1fb7_11e8_825e_1a00d4419701level0_row0\" class=\"row_heading level0 row0\" >Undirrala66</th> \n",
       "        <td id=\"T_c5fe3bee_1fb7_11e8_825e_1a00d4419701row0_col0\" class=\"data row0 col0\" >5</td> \n",
       "        <td id=\"T_c5fe3bee_1fb7_11e8_825e_1a00d4419701row0_col1\" class=\"data row0 col1\" >$3.41</td> \n",
       "        <td id=\"T_c5fe3bee_1fb7_11e8_825e_1a00d4419701row0_col2\" class=\"data row0 col2\" >$17.06</td> \n",
       "    </tr>    <tr> \n",
       "        <th id=\"T_c5fe3bee_1fb7_11e8_825e_1a00d4419701level0_row1\" class=\"row_heading level0 row1\" >Aerithllora36</th> \n",
       "        <td id=\"T_c5fe3bee_1fb7_11e8_825e_1a00d4419701row1_col0\" class=\"data row1 col0\" >4</td> \n",
       "        <td id=\"T_c5fe3bee_1fb7_11e8_825e_1a00d4419701row1_col1\" class=\"data row1 col1\" >$3.77</td> \n",
       "        <td id=\"T_c5fe3bee_1fb7_11e8_825e_1a00d4419701row1_col2\" class=\"data row1 col2\" >$15.10</td> \n",
       "    </tr>    <tr> \n",
       "        <th id=\"T_c5fe3bee_1fb7_11e8_825e_1a00d4419701level0_row2\" class=\"row_heading level0 row2\" >Saedue76</th> \n",
       "        <td id=\"T_c5fe3bee_1fb7_11e8_825e_1a00d4419701row2_col0\" class=\"data row2 col0\" >4</td> \n",
       "        <td id=\"T_c5fe3bee_1fb7_11e8_825e_1a00d4419701row2_col1\" class=\"data row2 col1\" >$3.39</td> \n",
       "        <td id=\"T_c5fe3bee_1fb7_11e8_825e_1a00d4419701row2_col2\" class=\"data row2 col2\" >$13.56</td> \n",
       "    </tr>    <tr> \n",
       "        <th id=\"T_c5fe3bee_1fb7_11e8_825e_1a00d4419701level0_row3\" class=\"row_heading level0 row3\" >Sondim43</th> \n",
       "        <td id=\"T_c5fe3bee_1fb7_11e8_825e_1a00d4419701row3_col0\" class=\"data row3 col0\" >4</td> \n",
       "        <td id=\"T_c5fe3bee_1fb7_11e8_825e_1a00d4419701row3_col1\" class=\"data row3 col1\" >$3.25</td> \n",
       "        <td id=\"T_c5fe3bee_1fb7_11e8_825e_1a00d4419701row3_col2\" class=\"data row3 col2\" >$13.02</td> \n",
       "    </tr>    <tr> \n",
       "        <th id=\"T_c5fe3bee_1fb7_11e8_825e_1a00d4419701level0_row4\" class=\"row_heading level0 row4\" >Mindimnya67</th> \n",
       "        <td id=\"T_c5fe3bee_1fb7_11e8_825e_1a00d4419701row4_col0\" class=\"data row4 col0\" >4</td> \n",
       "        <td id=\"T_c5fe3bee_1fb7_11e8_825e_1a00d4419701row4_col1\" class=\"data row4 col1\" >$3.18</td> \n",
       "        <td id=\"T_c5fe3bee_1fb7_11e8_825e_1a00d4419701row4_col2\" class=\"data row4 col2\" >$12.74</td> \n",
       "    </tr></tbody> \n",
       "</table> "
      ],
      "text/plain": [
       "<pandas.io.formats.style.Styler at 0x120cbda20>"
      ]
     },
     "execution_count": 237,
     "metadata": {},
     "output_type": "execute_result"
    }
   ],
   "source": [
    "# Group by SN\n",
    "purchase_bySN = purchase_df.groupby(\"SN\")\n",
    "\n",
    "# Create a new df\n",
    "topSpenders_df = pd.DataFrame({\n",
    "    \"Purchase Count\" : purchase_bySN[\"Item ID\"].count(),\n",
    "    \"Average Purchase Price\": purchase_bySN[\"Price\"].mean(),\n",
    "    \"Total Purchase Value\": purchase_bySN[\"Price\"].sum()\n",
    "})\n",
    "\n",
    "# Sort, Format, and Output\n",
    "topSpenders_df[[\n",
    "    \"Purchase Count\",\n",
    "    \"Average Purchase Price\",\n",
    "    \"Total Purchase Value\"\n",
    "]].sort_values(\n",
    "    by=[\"Purchase Count\", \"Average Purchase Price\"],\n",
    "    ascending=False\n",
    ").head().style.format({\n",
    "    \"Average Purchase Price\":\"${:.2f}\",\n",
    "    \"Total Purchase Value\":\"${:.2f}\"\n",
    "})\n"
   ]
  },
  {
   "cell_type": "code",
   "execution_count": 238,
   "metadata": {},
   "outputs": [
    {
     "data": {
      "text/plain": [
       "<matplotlib.axes._subplots.AxesSubplot at 0x120cc86d8>"
      ]
     },
     "execution_count": 238,
     "metadata": {},
     "output_type": "execute_result"
    },
    {
     "data": {
      "image/png": "[encoded data removed]",
      "text/plain": [
       "<matplotlib.figure.Figure at 0x120c32be0>"
      ]
     },
     "metadata": {},
     "output_type": "display_data"
    }
   ],
   "source": [
    "%matplotlib inline\n",
    "topSpenders_df.plot.hist(x='Purchase Count', y='Total Purchase Value')"
   ]
  },
  {
   "cell_type": "code",
   "execution_count": 239,
   "metadata": {},
   "outputs": [
    {
     "data": {
      "text/plain": [
       "<matplotlib.axes._subplots.AxesSubplot at 0x120f8f358>"
      ]
     },
     "execution_count": 239,
     "metadata": {},
     "output_type": "execute_result"
    },
    {
     "data": {
      "image/png": "[encoded data removed]",
      "text/plain": [
       "<matplotlib.figure.Figure at 0x121050160>"
      ]
     },
     "metadata": {},
     "output_type": "display_data"
    }
   ],
   "source": [
    "%matplotlib inline\n",
    "topSpenders_df.plot.hist(x='Total Purchase Value', y='Purchase Count')"
   ]
  },
  {
   "cell_type": "markdown",
   "metadata": {},
   "source": [
    "## Most Popular Items"
   ]
  },
  {
   "cell_type": "code",
   "execution_count": 240,
   "metadata": {},
   "outputs": [
    {
     "data": {
      "text/html": [
       "<style  type=\"text/css\" >\n",
       "</style>  \n",
       "<table id=\"T_cc098782_1fb7_11e8_8fe9_1a00d4419701\" > \n",
       "<thead>    <tr> \n",
       "        <th class=\"blank\" ></th> \n",
       "        <th class=\"blank level0\" ></th> \n",
       "        <th class=\"col_heading level0 col0\" >Purchase Count</th> \n",
       "        <th class=\"col_heading level0 col1\" >Item Price</th> \n",
       "        <th class=\"col_heading level0 col2\" >Total Purchase Value</th> \n",
       "    </tr>    <tr> \n",
       "        <th class=\"index_name level0\" >Item ID</th> \n",
       "        <th class=\"index_name level1\" >Item Name</th> \n",
       "        <th class=\"blank\" ></th> \n",
       "        <th class=\"blank\" ></th> \n",
       "        <th class=\"blank\" ></th> \n",
       "    </tr></thead> \n",
       "<tbody>    <tr> \n",
       "        <th id=\"T_cc098782_1fb7_11e8_8fe9_1a00d4419701level0_row0\" class=\"row_heading level0 row0\" >84</th> \n",
       "        <th id=\"T_cc098782_1fb7_11e8_8fe9_1a00d4419701level1_row0\" class=\"row_heading level1 row0\" >Arcane Gem</th> \n",
       "        <td id=\"T_cc098782_1fb7_11e8_8fe9_1a00d4419701row0_col0\" class=\"data row0 col0\" >12</td> \n",
       "        <td id=\"T_cc098782_1fb7_11e8_8fe9_1a00d4419701row0_col1\" class=\"data row0 col1\" >$2.45</td> \n",
       "        <td id=\"T_cc098782_1fb7_11e8_8fe9_1a00d4419701row0_col2\" class=\"data row0 col2\" >$29.34</td> \n",
       "    </tr>    <tr> \n",
       "        <th id=\"T_cc098782_1fb7_11e8_8fe9_1a00d4419701level0_row1\" class=\"row_heading level0 row1\" >39</th> \n",
       "        <th id=\"T_cc098782_1fb7_11e8_8fe9_1a00d4419701level1_row1\" class=\"row_heading level1 row1\" >Betrayal, Whisper of Grieving Widows</th> \n",
       "        <td id=\"T_cc098782_1fb7_11e8_8fe9_1a00d4419701row1_col0\" class=\"data row1 col0\" >11</td> \n",
       "        <td id=\"T_cc098782_1fb7_11e8_8fe9_1a00d4419701row1_col1\" class=\"data row1 col1\" >$2.35</td> \n",
       "        <td id=\"T_cc098782_1fb7_11e8_8fe9_1a00d4419701row1_col2\" class=\"data row1 col2\" >$25.85</td> \n",
       "    </tr>    <tr> \n",
       "        <th id=\"T_cc098782_1fb7_11e8_8fe9_1a00d4419701level0_row2\" class=\"row_heading level0 row2\" >31</th> \n",
       "        <th id=\"T_cc098782_1fb7_11e8_8fe9_1a00d4419701level1_row2\" class=\"row_heading level1 row2\" >Trickster</th> \n",
       "        <td id=\"T_cc098782_1fb7_11e8_8fe9_1a00d4419701row2_col0\" class=\"data row2 col0\" >10</td> \n",
       "        <td id=\"T_cc098782_1fb7_11e8_8fe9_1a00d4419701row2_col1\" class=\"data row2 col1\" >$2.32</td> \n",
       "        <td id=\"T_cc098782_1fb7_11e8_8fe9_1a00d4419701row2_col2\" class=\"data row2 col2\" >$23.22</td> \n",
       "    </tr>    <tr> \n",
       "        <th id=\"T_cc098782_1fb7_11e8_8fe9_1a00d4419701level0_row3\" class=\"row_heading level0 row3\" >34</th> \n",
       "        <th id=\"T_cc098782_1fb7_11e8_8fe9_1a00d4419701level1_row3\" class=\"row_heading level1 row3\" >Retribution Axe</th> \n",
       "        <td id=\"T_cc098782_1fb7_11e8_8fe9_1a00d4419701row3_col0\" class=\"data row3 col0\" >9</td> \n",
       "        <td id=\"T_cc098782_1fb7_11e8_8fe9_1a00d4419701row3_col1\" class=\"data row3 col1\" >$4.14</td> \n",
       "        <td id=\"T_cc098782_1fb7_11e8_8fe9_1a00d4419701row3_col2\" class=\"data row3 col2\" >$37.26</td> \n",
       "    </tr>    <tr> \n",
       "        <th id=\"T_cc098782_1fb7_11e8_8fe9_1a00d4419701level0_row4\" class=\"row_heading level0 row4\" >107</th> \n",
       "        <th id=\"T_cc098782_1fb7_11e8_8fe9_1a00d4419701level1_row4\" class=\"row_heading level1 row4\" >Splitter, Foe Of Subtlety</th> \n",
       "        <td id=\"T_cc098782_1fb7_11e8_8fe9_1a00d4419701row4_col0\" class=\"data row4 col0\" >9</td> \n",
       "        <td id=\"T_cc098782_1fb7_11e8_8fe9_1a00d4419701row4_col1\" class=\"data row4 col1\" >$3.67</td> \n",
       "        <td id=\"T_cc098782_1fb7_11e8_8fe9_1a00d4419701row4_col2\" class=\"data row4 col2\" >$33.03</td> \n",
       "    </tr></tbody> \n",
       "</table> "
      ],
      "text/plain": [
       "<pandas.io.formats.style.Styler at 0x121132278>"
      ]
     },
     "execution_count": 240,
     "metadata": {},
     "output_type": "execute_result"
    }
   ],
   "source": [
    "# Group by Item ID and Item Name\n",
    "purchase_byItem = purchase_df.groupby([\"Item ID\",\"Item Name\"])\n",
    "\n",
    "# Create a new df\n",
    "topItem_df = pd.DataFrame({\n",
    "    \"Purchase Count\":purchase_byItem[\"SN\"].count(),\n",
    "    \"Item Price\":purchase_byItem[\"Price\"].mean(),\n",
    "    \"Total Purchase Value\":purchase_byItem[\"Price\"].sum()\n",
    "})\n",
    "\n",
    "# Sort by Purchase Count, Format, and Output\n",
    "topItem_df[[\n",
    "    \"Purchase Count\",\n",
    "    \"Item Price\",\"Total Purchase Value\"\n",
    "]].sort_values(\n",
    "    by=[\"Purchase Count\", \"Total Purchase Value\"],\n",
    "    ascending=False\n",
    ").head().style.format({\n",
    "    \"Item Price\": \"${:.2f}\",\n",
    "    \"Total Purchase Value\": \"${:.2f}\"\n",
    "})"
   ]
  },
  {
   "cell_type": "code",
   "execution_count": 244,
   "metadata": {},
   "outputs": [
    {
     "data": {
      "text/plain": [
       "<matplotlib.axes._subplots.AxesSubplot at 0x1213c1978>"
      ]
     },
     "execution_count": 244,
     "metadata": {},
     "output_type": "execute_result"
    },
    {
     "data": {
      "image/png": "[encoded data removed]",
      "text/plain": [
       "<matplotlib.figure.Figure at 0x1212fbcf8>"
      ]
     },
     "metadata": {},
     "output_type": "display_data"
    }
   ],
   "source": [
    "topItem_df.plot.hist(x='Purchase Count', y='Total Purchase Value')"
   ]
  },
  {
   "cell_type": "code",
   "execution_count": 245,
   "metadata": {},
   "outputs": [
    {
     "data": {
      "text/plain": [
       "<matplotlib.axes._subplots.AxesSubplot at 0x1214adc88>"
      ]
     },
     "execution_count": 245,
     "metadata": {},
     "output_type": "execute_result"
    },
    {
     "data": {
      "image/png": "[encoded data removed]",
      "text/plain": [
       "<matplotlib.figure.Figure at 0x121058c18>"
      ]
     },
     "metadata": {},
     "output_type": "display_data"
    }
   ],
   "source": [
    "topItem_df.plot.hist(x='Total Purchase Value', y='Purchase Count')"
   ]
  },
  {
   "cell_type": "code",
   "execution_count": 246,
   "metadata": {
    "scrolled": true
   },
   "outputs": [
    {
     "data": {
      "text/plain": [
       "<matplotlib.axes._subplots.AxesSubplot at 0x1214c89e8>"
      ]
     },
     "execution_count": 246,
     "metadata": {},
     "output_type": "execute_result"
    },
    {
     "data": {
      "image/png": "[encoded data removed]",
      "text/plain": [
       "<matplotlib.figure.Figure at 0x1214d80b8>"
      ]
     },
     "metadata": {},
     "output_type": "display_data"
    }
   ],
   "source": [
    "topItem_df.plot.scatter(x='Item Price', y='Purchase Count')"
   ]
  },
  {
   "cell_type": "code",
   "execution_count": 247,
   "metadata": {},
   "outputs": [
    {
     "data": {
      "text/plain": [
       "<matplotlib.axes._subplots.AxesSubplot at 0x121642c88>"
      ]
     },
     "execution_count": 247,
     "metadata": {},
     "output_type": "execute_result"
    },
    {
     "data": {
      "image/png": "[encoded data removed]",
      "text/plain": [
       "<matplotlib.figure.Figure at 0x1215ae470>"
      ]
     },
     "metadata": {},
     "output_type": "display_data"
    }
   ],
   "source": [
    "topItem_df.plot.scatter(x='Item Price', y='Total Purchase Value')"
   ]
  },
  {
   "cell_type": "markdown",
   "metadata": {},
   "source": [
    "## Most Profitable Items"
   ]
  },
  {
   "cell_type": "code",
   "execution_count": 248,
   "metadata": {},
   "outputs": [
    {
     "data": {
      "text/html": [
       "<style  type=\"text/css\" >\n",
       "</style>  \n",
       "<table id=\"T_e7024d8a_1fb7_11e8_b59f_1a00d4419701\" > \n",
       "<thead>    <tr> \n",
       "        <th class=\"blank\" ></th> \n",
       "        <th class=\"blank level0\" ></th> \n",
       "        <th class=\"col_heading level0 col0\" >Purchase Count</th> \n",
       "        <th class=\"col_heading level0 col1\" >Item Price</th> \n",
       "        <th class=\"col_heading level0 col2\" >Total Purchase Value</th> \n",
       "    </tr>    <tr> \n",
       "        <th class=\"index_name level0\" >Item ID</th> \n",
       "        <th class=\"index_name level1\" >Item Name</th> \n",
       "        <th class=\"blank\" ></th> \n",
       "        <th class=\"blank\" ></th> \n",
       "        <th class=\"blank\" ></th> \n",
       "    </tr></thead> \n",
       "<tbody>    <tr> \n",
       "        <th id=\"T_e7024d8a_1fb7_11e8_b59f_1a00d4419701level0_row0\" class=\"row_heading level0 row0\" >34</th> \n",
       "        <th id=\"T_e7024d8a_1fb7_11e8_b59f_1a00d4419701level1_row0\" class=\"row_heading level1 row0\" >Retribution Axe</th> \n",
       "        <td id=\"T_e7024d8a_1fb7_11e8_b59f_1a00d4419701row0_col0\" class=\"data row0 col0\" >9</td> \n",
       "        <td id=\"T_e7024d8a_1fb7_11e8_b59f_1a00d4419701row0_col1\" class=\"data row0 col1\" >$4.14</td> \n",
       "        <td id=\"T_e7024d8a_1fb7_11e8_b59f_1a00d4419701row0_col2\" class=\"data row0 col2\" >$37.26</td> \n",
       "    </tr>    <tr> \n",
       "        <th id=\"T_e7024d8a_1fb7_11e8_b59f_1a00d4419701level0_row1\" class=\"row_heading level0 row1\" >107</th> \n",
       "        <th id=\"T_e7024d8a_1fb7_11e8_b59f_1a00d4419701level1_row1\" class=\"row_heading level1 row1\" >Splitter, Foe Of Subtlety</th> \n",
       "        <td id=\"T_e7024d8a_1fb7_11e8_b59f_1a00d4419701row1_col0\" class=\"data row1 col0\" >9</td> \n",
       "        <td id=\"T_e7024d8a_1fb7_11e8_b59f_1a00d4419701row1_col1\" class=\"data row1 col1\" >$3.67</td> \n",
       "        <td id=\"T_e7024d8a_1fb7_11e8_b59f_1a00d4419701row1_col2\" class=\"data row1 col2\" >$33.03</td> \n",
       "    </tr>    <tr> \n",
       "        <th id=\"T_e7024d8a_1fb7_11e8_b59f_1a00d4419701level0_row2\" class=\"row_heading level0 row2\" >115</th> \n",
       "        <th id=\"T_e7024d8a_1fb7_11e8_b59f_1a00d4419701level1_row2\" class=\"row_heading level1 row2\" >Spectral Diamond Doomblade</th> \n",
       "        <td id=\"T_e7024d8a_1fb7_11e8_b59f_1a00d4419701row2_col0\" class=\"data row2 col0\" >7</td> \n",
       "        <td id=\"T_e7024d8a_1fb7_11e8_b59f_1a00d4419701row2_col1\" class=\"data row2 col1\" >$4.25</td> \n",
       "        <td id=\"T_e7024d8a_1fb7_11e8_b59f_1a00d4419701row2_col2\" class=\"data row2 col2\" >$29.75</td> \n",
       "    </tr>    <tr> \n",
       "        <th id=\"T_e7024d8a_1fb7_11e8_b59f_1a00d4419701level0_row3\" class=\"row_heading level0 row3\" >32</th> \n",
       "        <th id=\"T_e7024d8a_1fb7_11e8_b59f_1a00d4419701level1_row3\" class=\"row_heading level1 row3\" >Orenmir</th> \n",
       "        <td id=\"T_e7024d8a_1fb7_11e8_b59f_1a00d4419701row3_col0\" class=\"data row3 col0\" >6</td> \n",
       "        <td id=\"T_e7024d8a_1fb7_11e8_b59f_1a00d4419701row3_col1\" class=\"data row3 col1\" >$4.95</td> \n",
       "        <td id=\"T_e7024d8a_1fb7_11e8_b59f_1a00d4419701row3_col2\" class=\"data row3 col2\" >$29.70</td> \n",
       "    </tr>    <tr> \n",
       "        <th id=\"T_e7024d8a_1fb7_11e8_b59f_1a00d4419701level0_row4\" class=\"row_heading level0 row4\" >84</th> \n",
       "        <th id=\"T_e7024d8a_1fb7_11e8_b59f_1a00d4419701level1_row4\" class=\"row_heading level1 row4\" >Arcane Gem</th> \n",
       "        <td id=\"T_e7024d8a_1fb7_11e8_b59f_1a00d4419701row4_col0\" class=\"data row4 col0\" >12</td> \n",
       "        <td id=\"T_e7024d8a_1fb7_11e8_b59f_1a00d4419701row4_col1\" class=\"data row4 col1\" >$2.45</td> \n",
       "        <td id=\"T_e7024d8a_1fb7_11e8_b59f_1a00d4419701row4_col2\" class=\"data row4 col2\" >$29.34</td> \n",
       "    </tr></tbody> \n",
       "</table> "
      ],
      "text/plain": [
       "<pandas.io.formats.style.Styler at 0x12166ed30>"
      ]
     },
     "execution_count": 248,
     "metadata": {},
     "output_type": "execute_result"
    }
   ],
   "source": [
    "# Sort by Total Purchase Value, Format and Output\n",
    "topItem_df[[\n",
    "    \"Purchase Count\",\n",
    "    \"Item Price\",\n",
    "    \"Total Purchase Value\"\n",
    "]].sort_values(\n",
    "    by=[\"Total Purchase Value\", \"Item Price\"],\n",
    "    ascending=False\n",
    ").head().style.format({\n",
    "    \"Item Price\": \"${:.2f}\",\n",
    "    \"Total Purchase Value\": \"${:.2f}\"\n",
    "})"
   ]
  },
  {
   "cell_type": "code",
   "execution_count": null,
   "metadata": {
    "collapsed": true
   },
   "outputs": [],
   "source": []
  },
  {
   "cell_type": "code",
   "execution_count": null,
   "metadata": {
    "collapsed": true
   },
   "outputs": [],
   "source": []
  }
 ],
 "metadata": {
  "kernelspec": {
   "display_name": "Python [conda env:PythonData]",
   "language": "python",
   "name": "conda-env-PythonData-py"
  },
  "language_info": {
   "codemirror_mode": {
    "name": "ipython",
    "version": 3
   },
   "file_extension": ".py",
   "mimetype": "text/x-python",
   "name": "python",
   "nbconvert_exporter": "python",
   "pygments_lexer": "ipython3",
   "version": "3.6.3"
  }
 },
 "nbformat": 4,
 "nbformat_minor": 2
}
